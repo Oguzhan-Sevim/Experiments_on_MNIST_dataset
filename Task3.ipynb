{
 "cells": [
  {
   "cell_type": "code",
   "execution_count": 1,
   "metadata": {
    "colab": {},
    "colab_type": "code",
    "id": "v7RSN6fZ0s9C"
   },
   "outputs": [
    {
     "name": "stderr",
     "output_type": "stream",
     "text": [
      "Using TensorFlow backend.\n"
     ]
    }
   ],
   "source": [
    "from __future__ import print_function\n",
    "#import keras\n",
    "import numpy as np\n",
    "import pandas as pd\n",
    "import matplotlib.pyplot as plt\n",
    "from sklearn.metrics import confusion_matrix\n",
    "from keras.datasets import mnist\n",
    "from tensorflow.keras.models import Sequential\n",
    "from tensorflow.keras.layers import Dense, Dropout, Flatten\n",
    "from tensorflow.keras.layers import Conv2D, MaxPooling2D\n",
    "from tensorflow.keras.optimizers import SGD, Adam, Adadelta\n",
    "from tensorflow.keras.utils import to_categorical\n",
    "from tensorflow.keras import backend as K"
   ]
  },
  {
   "cell_type": "code",
   "execution_count": 16,
   "metadata": {
    "colab": {},
    "colab_type": "code",
    "id": "kY6woxhv0tvR"
   },
   "outputs": [],
   "source": [
    "batch_size = 128\n",
    "num_classes = 10\n",
    "epochs = 40 # experiment with this\n",
    "learning_rate = 0.01 # experiment with this\n",
    "\n",
    "# input image dimensions\n",
    "img_rows, img_cols = 28, 28"
   ]
  },
  {
   "cell_type": "code",
   "execution_count": 3,
   "metadata": {
    "colab": {
     "base_uri": "https://localhost:8080/",
     "height": 68
    },
    "colab_type": "code",
    "id": "rbp2tgIn12Vl",
    "outputId": "f5228c81-a8ce-4d25-a743-8674e0b03f3f"
   },
   "outputs": [
    {
     "name": "stdout",
     "output_type": "stream",
     "text": [
      "x_train shape: (60000, 28, 28, 1)\n",
      "60000 train samples\n",
      "10000 test samples\n"
     ]
    }
   ],
   "source": [
    "# the data, split between train and test sets\n",
    "(x_train, y_train), (x_test, y_test) = mnist.load_data()\n",
    "\n",
    "if K.image_data_format() == 'channels_first':\n",
    "    x_train = x_train.reshape(x_train.shape[0], 1, img_rows, img_cols)\n",
    "    x_test = x_test.reshape(x_test.shape[0], 1, img_rows, img_cols)\n",
    "    input_shape = (1, img_rows, img_cols)\n",
    "else:\n",
    "    x_train = x_train.reshape(x_train.shape[0], img_rows, img_cols, 1)\n",
    "    x_test = x_test.reshape(x_test.shape[0], img_rows, img_cols, 1)\n",
    "    input_shape = (img_rows, img_cols, 1)\n",
    "\n",
    "x_train = x_train.astype('float32')\n",
    "x_test = x_test.astype('float32')\n",
    "x_train /= 255\n",
    "x_test /= 255\n",
    "print('x_train shape:', x_train.shape)\n",
    "print(x_train.shape[0], 'train samples')\n",
    "print(x_test.shape[0], 'test samples')"
   ]
  },
  {
   "cell_type": "code",
   "execution_count": 4,
   "metadata": {
    "colab": {
     "base_uri": "https://localhost:8080/",
     "height": 51
    },
    "colab_type": "code",
    "id": "f8KsMovg5S5E",
    "outputId": "bc07ccb9-629f-407b-aee9-0d092b3df964"
   },
   "outputs": [
    {
     "name": "stdout",
     "output_type": "stream",
     "text": [
      "y_train shape: (60000,)\n",
      "y_test shape: (10000,)\n"
     ]
    }
   ],
   "source": [
    "print('y_train shape:', y_train.shape)\n",
    "print('y_test shape:', y_test.shape)"
   ]
  },
  {
   "cell_type": "code",
   "execution_count": 5,
   "metadata": {
    "colab": {},
    "colab_type": "code",
    "id": "BOijU7_n18qv"
   },
   "outputs": [],
   "source": [
    "# convert class vectors to binary class matrices\n",
    "y_train = to_categorical(y_train, num_classes)\n",
    "y_test = to_categorical(y_test, num_classes)"
   ]
  },
  {
   "cell_type": "code",
   "execution_count": 6,
   "metadata": {
    "colab": {
     "base_uri": "https://localhost:8080/",
     "height": 51
    },
    "colab_type": "code",
    "id": "g1WDzGWj5jus",
    "outputId": "9a0200f9-17ba-4fe5-e8b3-7d49a48badef"
   },
   "outputs": [
    {
     "name": "stdout",
     "output_type": "stream",
     "text": [
      "y_train shape: (60000, 10)\n",
      "y_test shape: (10000, 10)\n"
     ]
    }
   ],
   "source": [
    "print('y_train shape:', y_train.shape)\n",
    "print('y_test shape:', y_test.shape)"
   ]
  },
  {
   "cell_type": "code",
   "execution_count": 7,
   "metadata": {
    "colab": {},
    "colab_type": "code",
    "id": "_w-dMVg4pmfg"
   },
   "outputs": [],
   "source": [
    "# describe the units numbers in each hidden layer\n",
    "num_units_layer1 = 40\n",
    "num_units_layer2 = 30\n",
    "num_units_layer3 = 40\n",
    "num_units_layer4 = 10"
   ]
  },
  {
   "cell_type": "code",
   "execution_count": 21,
   "metadata": {
    "colab": {},
    "colab_type": "code",
    "id": "hj8tNfkgmAhP"
   },
   "outputs": [],
   "source": [
    "# define the kernel and pooling size\n",
    "m = 4\n",
    "n = 2\n",
    "num_kernels = 5"
   ]
  },
  {
   "cell_type": "code",
   "execution_count": 24,
   "metadata": {
    "colab": {},
    "colab_type": "code",
    "id": "vn7wztIao6JA"
   },
   "outputs": [],
   "source": [
    "# the convolutional neural network model is described:\n",
    "model_cnn = Sequential()\n",
    "model_cnn.add(Conv2D(num_kernels, kernel_size=(m,m), padding='same',\n",
    "activation='relu',\n",
    "input_shape=input_shape))\n",
    "model_cnn.add(MaxPooling2D(pool_size=(n,n)))\n",
    "\n",
    "model_cnn.add(Flatten(input_shape=input_shape))\n",
    "model_cnn.add(Dense(num_units_layer1, activation='relu'))\n",
    "model_cnn.add(Dense(num_units_layer2, activation='relu'))\n",
    "model_cnn.add(Dense(num_units_layer3, activation='relu'))\n",
    "#model_cnn.add(Dense(num_units_layer4, activation='relu'))\n",
    "model_cnn.add(Dense(num_classes, activation='softmax'))"
   ]
  },
  {
   "cell_type": "code",
   "execution_count": 25,
   "metadata": {
    "colab": {
     "base_uri": "https://localhost:8080/",
     "height": 34
    },
    "colab_type": "code",
    "id": "yFEs7mO5_dOl",
    "outputId": "59f264c5-ec9a-4854-c55c-e487ecc05db8"
   },
   "outputs": [
    {
     "data": {
      "text/plain": [
       "11695"
      ]
     },
     "execution_count": 25,
     "metadata": {},
     "output_type": "execute_result"
    }
   ],
   "source": [
    "model_cnn.count_params()"
   ]
  },
  {
   "cell_type": "code",
   "execution_count": 26,
   "metadata": {
    "colab": {
     "base_uri": "https://localhost:8080/",
     "height": 1000
    },
    "colab_type": "code",
    "id": "l3dQgqVmpAbp",
    "outputId": "64b0f14c-f221-4451-bdeb-e66cbd2a4970"
   },
   "outputs": [
    {
     "name": "stdout",
     "output_type": "stream",
     "text": [
      "Epoch 1/40\n",
      "469/469 [==============================] - 1s 3ms/step - loss: 0.2914 - accuracy: 0.9074 - val_loss: 0.0961 - val_accuracy: 0.9698\n",
      "Epoch 2/40\n",
      "469/469 [==============================] - 1s 3ms/step - loss: 0.0928 - accuracy: 0.9711 - val_loss: 0.0590 - val_accuracy: 0.9816\n",
      "Epoch 3/40\n",
      "469/469 [==============================] - 1s 2ms/step - loss: 0.0698 - accuracy: 0.9780 - val_loss: 0.0756 - val_accuracy: 0.9759\n",
      "Epoch 4/40\n",
      "469/469 [==============================] - 1s 2ms/step - loss: 0.0600 - accuracy: 0.9807 - val_loss: 0.0714 - val_accuracy: 0.9784\n",
      "Epoch 5/40\n",
      "469/469 [==============================] - 1s 2ms/step - loss: 0.0533 - accuracy: 0.9827 - val_loss: 0.0600 - val_accuracy: 0.9821\n",
      "Epoch 6/40\n",
      "469/469 [==============================] - 1s 2ms/step - loss: 0.0477 - accuracy: 0.9847 - val_loss: 0.0606 - val_accuracy: 0.9810\n",
      "Epoch 7/40\n",
      "469/469 [==============================] - 1s 3ms/step - loss: 0.0434 - accuracy: 0.9861 - val_loss: 0.0500 - val_accuracy: 0.9858\n",
      "Epoch 8/40\n",
      "469/469 [==============================] - 1s 2ms/step - loss: 0.0399 - accuracy: 0.9872 - val_loss: 0.0587 - val_accuracy: 0.9832\n",
      "Epoch 9/40\n",
      "469/469 [==============================] - 1s 3ms/step - loss: 0.0361 - accuracy: 0.9882 - val_loss: 0.0506 - val_accuracy: 0.9847\n",
      "Epoch 10/40\n",
      "469/469 [==============================] - 1s 2ms/step - loss: 0.0362 - accuracy: 0.9883 - val_loss: 0.0570 - val_accuracy: 0.9832\n",
      "Epoch 11/40\n",
      "469/469 [==============================] - 1s 2ms/step - loss: 0.0336 - accuracy: 0.9891 - val_loss: 0.0463 - val_accuracy: 0.9868\n",
      "Epoch 12/40\n",
      "469/469 [==============================] - 1s 2ms/step - loss: 0.0323 - accuracy: 0.9895 - val_loss: 0.0499 - val_accuracy: 0.9844\n",
      "Epoch 13/40\n",
      "469/469 [==============================] - 1s 2ms/step - loss: 0.0297 - accuracy: 0.9900 - val_loss: 0.0569 - val_accuracy: 0.9839\n",
      "Epoch 14/40\n",
      "469/469 [==============================] - 1s 2ms/step - loss: 0.0282 - accuracy: 0.9909 - val_loss: 0.0486 - val_accuracy: 0.9863\n",
      "Epoch 15/40\n",
      "469/469 [==============================] - 1s 2ms/step - loss: 0.0268 - accuracy: 0.9911 - val_loss: 0.0554 - val_accuracy: 0.9832\n",
      "Epoch 16/40\n",
      "469/469 [==============================] - 1s 2ms/step - loss: 0.0274 - accuracy: 0.9909 - val_loss: 0.0576 - val_accuracy: 0.9847\n",
      "Epoch 17/40\n",
      "469/469 [==============================] - 1s 2ms/step - loss: 0.0257 - accuracy: 0.9911 - val_loss: 0.0525 - val_accuracy: 0.9859\n",
      "Epoch 18/40\n",
      "469/469 [==============================] - 1s 2ms/step - loss: 0.0245 - accuracy: 0.9925 - val_loss: 0.0526 - val_accuracy: 0.9855\n",
      "Epoch 19/40\n",
      "469/469 [==============================] - 1s 2ms/step - loss: 0.0232 - accuracy: 0.9920 - val_loss: 0.0544 - val_accuracy: 0.9852\n",
      "Epoch 20/40\n",
      "469/469 [==============================] - 1s 3ms/step - loss: 0.0224 - accuracy: 0.9929 - val_loss: 0.0737 - val_accuracy: 0.9811\n",
      "Epoch 21/40\n",
      "469/469 [==============================] - 1s 2ms/step - loss: 0.0212 - accuracy: 0.9934 - val_loss: 0.0636 - val_accuracy: 0.9851\n",
      "Epoch 22/40\n",
      "469/469 [==============================] - 1s 2ms/step - loss: 0.0213 - accuracy: 0.9932 - val_loss: 0.0595 - val_accuracy: 0.9851\n",
      "Epoch 23/40\n",
      "469/469 [==============================] - 1s 2ms/step - loss: 0.0176 - accuracy: 0.9942 - val_loss: 0.0721 - val_accuracy: 0.9828\n",
      "Epoch 24/40\n",
      "469/469 [==============================] - 1s 2ms/step - loss: 0.0214 - accuracy: 0.9929 - val_loss: 0.0598 - val_accuracy: 0.9852\n",
      "Epoch 25/40\n",
      "469/469 [==============================] - 1s 2ms/step - loss: 0.0179 - accuracy: 0.9941 - val_loss: 0.0626 - val_accuracy: 0.9856\n",
      "Epoch 26/40\n",
      "469/469 [==============================] - 1s 2ms/step - loss: 0.0203 - accuracy: 0.9936 - val_loss: 0.0592 - val_accuracy: 0.9850\n",
      "Epoch 27/40\n",
      "469/469 [==============================] - 1s 3ms/step - loss: 0.0154 - accuracy: 0.9950 - val_loss: 0.0918 - val_accuracy: 0.9810\n",
      "Epoch 28/40\n",
      "469/469 [==============================] - 1s 2ms/step - loss: 0.0184 - accuracy: 0.9941 - val_loss: 0.0647 - val_accuracy: 0.9856\n",
      "Epoch 29/40\n",
      "469/469 [==============================] - 1s 2ms/step - loss: 0.0177 - accuracy: 0.9942 - val_loss: 0.0739 - val_accuracy: 0.9846\n",
      "Epoch 30/40\n",
      "469/469 [==============================] - 1s 2ms/step - loss: 0.0175 - accuracy: 0.9941 - val_loss: 0.0729 - val_accuracy: 0.9817\n",
      "Epoch 31/40\n",
      "469/469 [==============================] - 1s 2ms/step - loss: 0.0195 - accuracy: 0.9939 - val_loss: 0.0860 - val_accuracy: 0.9829\n",
      "Epoch 32/40\n",
      "469/469 [==============================] - 1s 2ms/step - loss: 0.0173 - accuracy: 0.9948 - val_loss: 0.0599 - val_accuracy: 0.9861\n",
      "Epoch 33/40\n",
      "469/469 [==============================] - 1s 2ms/step - loss: 0.0158 - accuracy: 0.9950 - val_loss: 0.0762 - val_accuracy: 0.9841\n",
      "Epoch 34/40\n",
      "469/469 [==============================] - 1s 2ms/step - loss: 0.0156 - accuracy: 0.9949 - val_loss: 0.0729 - val_accuracy: 0.9833\n",
      "Epoch 35/40\n",
      "469/469 [==============================] - 1s 2ms/step - loss: 0.0152 - accuracy: 0.9950 - val_loss: 0.0670 - val_accuracy: 0.9850\n",
      "Epoch 36/40\n",
      "469/469 [==============================] - 1s 3ms/step - loss: 0.0134 - accuracy: 0.9955 - val_loss: 0.0838 - val_accuracy: 0.9837\n",
      "Epoch 37/40\n",
      "469/469 [==============================] - 1s 2ms/step - loss: 0.0166 - accuracy: 0.9949 - val_loss: 0.0722 - val_accuracy: 0.9862\n",
      "Epoch 38/40\n",
      "469/469 [==============================] - 1s 3ms/step - loss: 0.0161 - accuracy: 0.9952 - val_loss: 0.0862 - val_accuracy: 0.9830\n",
      "Epoch 39/40\n",
      "469/469 [==============================] - 1s 3ms/step - loss: 0.0119 - accuracy: 0.9962 - val_loss: 0.0713 - val_accuracy: 0.9842\n",
      "Epoch 40/40\n",
      "469/469 [==============================] - 1s 3ms/step - loss: 0.0135 - accuracy: 0.9957 - val_loss: 0.0765 - val_accuracy: 0.9854\n"
     ]
    }
   ],
   "source": [
    "# SGD(lr=learning_rate) Adadelta() Adam(learning_rate=0.001, beta_1=0.9, beta_2=0.999, amsgrad=False)\n",
    "# compile the model, choose the optimization objective function, learning rate\n",
    "opt = Adam(lr=0.004, beta_1=0.9, beta_2=0.999, amsgrad=False)\n",
    "\n",
    "model_cnn.compile(loss='categorical_crossentropy',\n",
    "              optimizer=opt,\n",
    "              metrics=['accuracy'])\n",
    "# train the model\n",
    "history = model_cnn.fit(x_train, y_train,\n",
    "          batch_size=batch_size,\n",
    "          epochs=epochs,\n",
    "          validation_data=(x_test, y_test))"
   ]
  },
  {
   "cell_type": "code",
   "execution_count": 27,
   "metadata": {
    "colab": {},
    "colab_type": "code",
    "id": "ziZLqdjBpJe2"
   },
   "outputs": [],
   "source": [
    "training_loss = history.history['loss']\n",
    "test_loss = history.history['val_loss']\n",
    "training_acc = history.history['accuracy']\n",
    "test_acc = history.history['val_accuracy']"
   ]
  },
  {
   "cell_type": "code",
   "execution_count": 28,
   "metadata": {
    "colab": {
     "base_uri": "https://localhost:8080/",
     "height": 295
    },
    "colab_type": "code",
    "id": "wtk-deTV3Eu4",
    "outputId": "e2911b94-05ab-4761-ce65-2e7f8e44ea7a"
   },
   "outputs": [
    {
     "data": {
      "image/png": "[encoded data removed]",
      "text/plain": [
       "<Figure size 432x288 with 1 Axes>"
      ]
     },
     "metadata": {
      "needs_background": "light"
     },
     "output_type": "display_data"
    }
   ],
   "source": [
    "plt.plot(training_acc, label = \"Training Accuracy\")\n",
    "plt.plot(test_acc, label = \"Test Accuracy\")\n",
    "# naming the x axis \n",
    "plt.xlabel('# of epochs') \n",
    "# naming the y axis \n",
    "plt.ylabel('Accuracy')\n",
    "# giving a title to my graph \n",
    "plt.title('Training and Test set accuracies vs. Epoch number')\n",
    "# show a legend on the plot \n",
    "plt.legend() \n",
    "# function to show the plot \n",
    "plt.show()"
   ]
  },
  {
   "cell_type": "code",
   "execution_count": 420,
   "metadata": {
    "colab": {
     "base_uri": "https://localhost:8080/",
     "height": 51
    },
    "colab_type": "code",
    "id": "x-CnF9512F6a",
    "outputId": "ba34289c-a5cc-4137-844d-e6c41ed31e25"
   },
   "outputs": [
    {
     "name": "stdout",
     "output_type": "stream",
     "text": [
      "Test loss: 0.11643907487670795\n",
      "Test accuracy: 0.9809\n"
     ]
    }
   ],
   "source": [
    "# reporting of the results\n",
    "score = model_cnn.evaluate(x_test, y_test, verbose=0)\n",
    "print('Test loss:', score[0])\n",
    "print('Test accuracy:', score[1])"
   ]
  },
  {
   "cell_type": "code",
   "execution_count": 0,
   "metadata": {
    "colab": {},
    "colab_type": "code",
    "id": "zXPndjHSIaH5"
   },
   "outputs": [],
   "source": [
    "del model_cnn"
   ]
  }
 ],
 "metadata": {
  "colab": {
   "collapsed_sections": [],
   "name": "Task3.ipynb",
   "provenance": []
  },
  "kernelspec": {
   "display_name": "Python 3",
   "language": "python",
   "name": "python3"
  },
  "language_info": {
   "codemirror_mode": {
    "name": "ipython",
    "version": 3
   },
   "file_extension": ".py",
   "mimetype": "text/x-python",
   "name": "python",
   "nbconvert_exporter": "python",
   "pygments_lexer": "ipython3",
   "version": "3.7.7"
  }
 },
 "nbformat": 4,
 "nbformat_minor": 1
}
