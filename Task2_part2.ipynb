{
 "cells": [
  {
   "cell_type": "code",
   "execution_count": 1,
   "metadata": {
    "colab": {
     "base_uri": "https://localhost:8080/",
     "height": 80
    },
    "colab_type": "code",
    "id": "v7RSN6fZ0s9C",
    "outputId": "589e0d47-37bd-4d7e-955f-96608b276de0"
   },
   "outputs": [
    {
     "name": "stderr",
     "output_type": "stream",
     "text": [
      "Using TensorFlow backend.\n"
     ]
    }
   ],
   "source": [
    "from __future__ import print_function\n",
    "#import keras\n",
    "import numpy as np\n",
    "import pandas as pd\n",
    "import matplotlib.pyplot as plt\n",
    "from sklearn.metrics import confusion_matrix\n",
    "from keras.datasets import mnist\n",
    "from tensorflow.keras.models import Sequential\n",
    "from tensorflow.keras.layers import Dense, Dropout, Flatten\n",
    "from tensorflow.keras.layers import Conv2D, MaxPooling2D\n",
    "from tensorflow.keras.optimizers import SGD, Adam, Adadelta\n",
    "from tensorflow.keras.utils import to_categorical\n",
    "from tensorflow.keras import backend as K"
   ]
  },
  {
   "cell_type": "code",
   "execution_count": 2,
   "metadata": {
    "colab": {},
    "colab_type": "code",
    "id": "kY6woxhv0tvR"
   },
   "outputs": [],
   "source": [
    "batch_size = 128\n",
    "num_classes = 10\n",
    "epochs = 100 # experiment with this\n",
    "learning_rate = 0.01 # experiment with this\n",
    "\n",
    "# input image dimensions\n",
    "img_rows, img_cols = 28, 28"
   ]
  },
  {
   "cell_type": "code",
   "execution_count": 3,
   "metadata": {
    "colab": {
     "base_uri": "https://localhost:8080/",
     "height": 119
    },
    "colab_type": "code",
    "id": "rbp2tgIn12Vl",
    "outputId": "e855b340-ce8a-40c8-ee39-363d73901f1f"
   },
   "outputs": [
    {
     "name": "stdout",
     "output_type": "stream",
     "text": [
      "x_train shape: (60000, 28, 28, 1)\n",
      "60000 train samples\n",
      "10000 test samples\n"
     ]
    }
   ],
   "source": [
    "# the data, split between train and test sets\n",
    "(x_train, y_train), (x_test, y_test) = mnist.load_data()\n",
    "\n",
    "if K.image_data_format() == 'channels_first':\n",
    "    x_train = x_train.reshape(x_train.shape[0], 1, img_rows, img_cols)\n",
    "    x_test = x_test.reshape(x_test.shape[0], 1, img_rows, img_cols)\n",
    "    input_shape = (1, img_rows, img_cols)\n",
    "else:\n",
    "    x_train = x_train.reshape(x_train.shape[0], img_rows, img_cols, 1)\n",
    "    x_test = x_test.reshape(x_test.shape[0], img_rows, img_cols, 1)\n",
    "    input_shape = (img_rows, img_cols, 1)\n",
    "\n",
    "x_train = x_train.astype('float32')\n",
    "x_test = x_test.astype('float32')\n",
    "x_train /= 255\n",
    "x_test /= 255\n",
    "print('x_train shape:', x_train.shape)\n",
    "print(x_train.shape[0], 'train samples')\n",
    "print(x_test.shape[0], 'test samples')"
   ]
  },
  {
   "cell_type": "code",
   "execution_count": 4,
   "metadata": {
    "colab": {
     "base_uri": "https://localhost:8080/",
     "height": 51
    },
    "colab_type": "code",
    "id": "f8KsMovg5S5E",
    "outputId": "d343fa47-f135-4b20-a9c3-145c1a21f34b"
   },
   "outputs": [
    {
     "name": "stdout",
     "output_type": "stream",
     "text": [
      "y_train shape: (60000,)\n",
      "y_test shape: (10000,)\n"
     ]
    }
   ],
   "source": [
    "print('y_train shape:', y_train.shape)\n",
    "print('y_test shape:', y_test.shape)"
   ]
  },
  {
   "cell_type": "code",
   "execution_count": 5,
   "metadata": {
    "colab": {},
    "colab_type": "code",
    "id": "BOijU7_n18qv"
   },
   "outputs": [],
   "source": [
    "# convert class vectors to binary class matrices\n",
    "y_train = to_categorical(y_train, num_classes)\n",
    "y_test = to_categorical(y_test, num_classes)"
   ]
  },
  {
   "cell_type": "code",
   "execution_count": 6,
   "metadata": {
    "colab": {
     "base_uri": "https://localhost:8080/",
     "height": 51
    },
    "colab_type": "code",
    "id": "g1WDzGWj5jus",
    "outputId": "006c2653-a473-4331-ba2c-b5e29d44f3db"
   },
   "outputs": [
    {
     "name": "stdout",
     "output_type": "stream",
     "text": [
      "y_train shape: (60000, 10)\n",
      "y_test shape: (10000, 10)\n"
     ]
    }
   ],
   "source": [
    "print('y_train shape:', y_train.shape)\n",
    "print('y_test shape:', y_test.shape)"
   ]
  },
  {
   "cell_type": "code",
   "execution_count": 16,
   "metadata": {
    "colab": {},
    "colab_type": "code",
    "id": "_w-dMVg4pmfg"
   },
   "outputs": [],
   "source": [
    "num_units_layer1 = 80\n",
    "num_units_layer2 = 60\n",
    "num_units_layer3 = 40\n",
    "num_units_layer4 = 10"
   ]
  },
  {
   "cell_type": "code",
   "execution_count": 20,
   "metadata": {
    "colab": {
     "base_uri": "https://localhost:8080/",
     "height": 156
    },
    "colab_type": "code",
    "id": "vn7wztIao6JA",
    "outputId": "d14cd8f6-bf83-4e13-ca20-7bf73085f14c"
   },
   "outputs": [],
   "source": [
    "# the neural network model is described:\n",
    "model_multilayer = Sequential()\n",
    "model_multilayer.add(Flatten())\n",
    "model_multilayer.add(Dense(num_units_layer1, activation='relu'))\n",
    "model_multilayer.add(Dense(num_units_layer2, activation='relu'))\n",
    "model_multilayer.add(Dense(num_units_layer3, activation='relu'))\n",
    "#model_multilayer.add(Dense(num_units_layer4, activation='relu'))\n",
    "model_multilayer.add(Dense(num_classes, activation='softmax'))"
   ]
  },
  {
   "cell_type": "code",
   "execution_count": 9,
   "metadata": {
    "colab": {
     "base_uri": "https://localhost:8080/",
     "height": 34
    },
    "colab_type": "code",
    "id": "yFEs7mO5_dOl",
    "outputId": "7b1615b2-8a08-42f2-80c5-4e8abe40e243"
   },
   "outputs": [
    {
     "ename": "ValueError",
     "evalue": "You tried to call `count_params` on sequential, but the layer isn't built. You can build it manually via: `sequential.build(batch_input_shape)`.",
     "output_type": "error",
     "traceback": [
      "\u001b[1;31m---------------------------------------------------------------------------\u001b[0m",
      "\u001b[1;31mValueError\u001b[0m                                Traceback (most recent call last)",
      "\u001b[1;32m<ipython-input-9-89c1171ecd99>\u001b[0m in \u001b[0;36m<module>\u001b[1;34m\u001b[0m\n\u001b[1;32m----> 1\u001b[1;33m \u001b[0mmodel_multilayer\u001b[0m\u001b[1;33m.\u001b[0m\u001b[0mcount_params\u001b[0m\u001b[1;33m(\u001b[0m\u001b[1;33m)\u001b[0m\u001b[1;33m\u001b[0m\u001b[1;33m\u001b[0m\u001b[0m\n\u001b[0m",
      "\u001b[1;32m~\\AppData\\Roaming\\Python\\Python37\\site-packages\\tensorflow\\python\\keras\\engine\\base_layer.py\u001b[0m in \u001b[0;36mcount_params\u001b[1;34m(self)\u001b[0m\n\u001b[0;32m   2157\u001b[0m                          \u001b[1;34m', but the layer isn\\'t built. '\u001b[0m\u001b[1;33m\u001b[0m\u001b[1;33m\u001b[0m\u001b[0m\n\u001b[0;32m   2158\u001b[0m                          \u001b[1;34m'You can build it manually via: `'\u001b[0m \u001b[1;33m+\u001b[0m \u001b[0mself\u001b[0m\u001b[1;33m.\u001b[0m\u001b[0mname\u001b[0m \u001b[1;33m+\u001b[0m\u001b[1;33m\u001b[0m\u001b[1;33m\u001b[0m\u001b[0m\n\u001b[1;32m-> 2159\u001b[1;33m                          '.build(batch_input_shape)`.')\n\u001b[0m\u001b[0;32m   2160\u001b[0m     \u001b[1;32mreturn\u001b[0m \u001b[0mlayer_utils\u001b[0m\u001b[1;33m.\u001b[0m\u001b[0mcount_params\u001b[0m\u001b[1;33m(\u001b[0m\u001b[0mself\u001b[0m\u001b[1;33m.\u001b[0m\u001b[0mweights\u001b[0m\u001b[1;33m)\u001b[0m\u001b[1;33m\u001b[0m\u001b[1;33m\u001b[0m\u001b[0m\n\u001b[0;32m   2161\u001b[0m \u001b[1;33m\u001b[0m\u001b[0m\n",
      "\u001b[1;31mValueError\u001b[0m: You tried to call `count_params` on sequential, but the layer isn't built. You can build it manually via: `sequential.build(batch_input_shape)`."
     ]
    }
   ],
   "source": [
    "model_multilayer.count_params()"
   ]
  },
  {
   "cell_type": "code",
   "execution_count": 21,
   "metadata": {
    "colab": {
     "base_uri": "https://localhost:8080/",
     "height": 1000
    },
    "colab_type": "code",
    "id": "l3dQgqVmpAbp",
    "outputId": "79477d33-819d-4f94-9b01-29a64dc8b262"
   },
   "outputs": [
    {
     "name": "stdout",
     "output_type": "stream",
     "text": [
      "Epoch 1/100\n",
      "469/469 [==============================] - 1s 2ms/step - loss: 0.3832 - accuracy: 0.8922 - val_loss: 0.1863 - val_accuracy: 0.9448\n",
      "Epoch 2/100\n",
      "469/469 [==============================] - 1s 2ms/step - loss: 0.1570 - accuracy: 0.9536 - val_loss: 0.1390 - val_accuracy: 0.9598\n",
      "Epoch 3/100\n",
      "469/469 [==============================] - 1s 2ms/step - loss: 0.1140 - accuracy: 0.9664 - val_loss: 0.1153 - val_accuracy: 0.9659\n",
      "Epoch 4/100\n",
      "469/469 [==============================] - 1s 2ms/step - loss: 0.0921 - accuracy: 0.9723 - val_loss: 0.1046 - val_accuracy: 0.9675\n",
      "Epoch 5/100\n",
      "469/469 [==============================] - 1s 2ms/step - loss: 0.0743 - accuracy: 0.9776 - val_loss: 0.1006 - val_accuracy: 0.9695\n",
      "Epoch 6/100\n",
      "469/469 [==============================] - 1s 2ms/step - loss: 0.0608 - accuracy: 0.9810 - val_loss: 0.0954 - val_accuracy: 0.9704\n",
      "Epoch 7/100\n",
      "469/469 [==============================] - 1s 2ms/step - loss: 0.0531 - accuracy: 0.9833 - val_loss: 0.0884 - val_accuracy: 0.9748\n",
      "Epoch 8/100\n",
      "469/469 [==============================] - 1s 2ms/step - loss: 0.0471 - accuracy: 0.9853 - val_loss: 0.0989 - val_accuracy: 0.9713\n",
      "Epoch 9/100\n",
      "469/469 [==============================] - 1s 2ms/step - loss: 0.0401 - accuracy: 0.9873 - val_loss: 0.0864 - val_accuracy: 0.9740\n",
      "Epoch 10/100\n",
      "469/469 [==============================] - 1s 2ms/step - loss: 0.0348 - accuracy: 0.9890 - val_loss: 0.0842 - val_accuracy: 0.9762\n",
      "Epoch 11/100\n",
      "469/469 [==============================] - 1s 2ms/step - loss: 0.0298 - accuracy: 0.9909 - val_loss: 0.0907 - val_accuracy: 0.9757\n",
      "Epoch 12/100\n",
      "469/469 [==============================] - 1s 2ms/step - loss: 0.0282 - accuracy: 0.9911 - val_loss: 0.0904 - val_accuracy: 0.9744\n",
      "Epoch 13/100\n",
      "469/469 [==============================] - 1s 2ms/step - loss: 0.0232 - accuracy: 0.9926 - val_loss: 0.0878 - val_accuracy: 0.9774\n",
      "Epoch 14/100\n",
      "469/469 [==============================] - 1s 2ms/step - loss: 0.0189 - accuracy: 0.9941 - val_loss: 0.0926 - val_accuracy: 0.9755\n",
      "Epoch 15/100\n",
      "469/469 [==============================] - 1s 2ms/step - loss: 0.0207 - accuracy: 0.9927 - val_loss: 0.0924 - val_accuracy: 0.9764\n",
      "Epoch 16/100\n",
      "469/469 [==============================] - 1s 2ms/step - loss: 0.0176 - accuracy: 0.9945 - val_loss: 0.1089 - val_accuracy: 0.9733\n",
      "Epoch 17/100\n",
      "469/469 [==============================] - 1s 2ms/step - loss: 0.0197 - accuracy: 0.9935 - val_loss: 0.0908 - val_accuracy: 0.9768\n",
      "Epoch 18/100\n",
      "469/469 [==============================] - 1s 2ms/step - loss: 0.0151 - accuracy: 0.9949 - val_loss: 0.0961 - val_accuracy: 0.9779\n",
      "Epoch 19/100\n",
      "469/469 [==============================] - 1s 2ms/step - loss: 0.0101 - accuracy: 0.9969 - val_loss: 0.1076 - val_accuracy: 0.9758\n",
      "Epoch 20/100\n",
      "469/469 [==============================] - 1s 2ms/step - loss: 0.0136 - accuracy: 0.9954 - val_loss: 0.1108 - val_accuracy: 0.9736\n",
      "Epoch 21/100\n",
      "469/469 [==============================] - 1s 2ms/step - loss: 0.0130 - accuracy: 0.9958 - val_loss: 0.1104 - val_accuracy: 0.9755\n",
      "Epoch 22/100\n",
      "469/469 [==============================] - 1s 2ms/step - loss: 0.0130 - accuracy: 0.9961 - val_loss: 0.1126 - val_accuracy: 0.9764\n",
      "Epoch 23/100\n",
      "469/469 [==============================] - 1s 2ms/step - loss: 0.0127 - accuracy: 0.9957 - val_loss: 0.1217 - val_accuracy: 0.9745\n",
      "Epoch 24/100\n",
      "469/469 [==============================] - 1s 2ms/step - loss: 0.0092 - accuracy: 0.9969 - val_loss: 0.1185 - val_accuracy: 0.9765\n",
      "Epoch 25/100\n",
      "469/469 [==============================] - 1s 2ms/step - loss: 0.0124 - accuracy: 0.9958 - val_loss: 0.1156 - val_accuracy: 0.9768\n",
      "Epoch 26/100\n",
      "469/469 [==============================] - 1s 2ms/step - loss: 0.0082 - accuracy: 0.9974 - val_loss: 0.1171 - val_accuracy: 0.9761\n",
      "Epoch 27/100\n",
      "469/469 [==============================] - 1s 2ms/step - loss: 0.0098 - accuracy: 0.9969 - val_loss: 0.1307 - val_accuracy: 0.9729\n",
      "Epoch 28/100\n",
      "469/469 [==============================] - 1s 2ms/step - loss: 0.0061 - accuracy: 0.9977 - val_loss: 0.1303 - val_accuracy: 0.9742\n",
      "Epoch 29/100\n",
      "469/469 [==============================] - 1s 2ms/step - loss: 0.0114 - accuracy: 0.9963 - val_loss: 0.1277 - val_accuracy: 0.9749\n",
      "Epoch 30/100\n",
      "469/469 [==============================] - 1s 2ms/step - loss: 0.0109 - accuracy: 0.9964 - val_loss: 0.1195 - val_accuracy: 0.9772\n",
      "Epoch 31/100\n",
      "469/469 [==============================] - 1s 2ms/step - loss: 0.0055 - accuracy: 0.9983 - val_loss: 0.1253 - val_accuracy: 0.9762\n",
      "Epoch 32/100\n",
      "469/469 [==============================] - 1s 2ms/step - loss: 0.0099 - accuracy: 0.9969 - val_loss: 0.1361 - val_accuracy: 0.9731\n",
      "Epoch 33/100\n",
      "469/469 [==============================] - 1s 2ms/step - loss: 0.0076 - accuracy: 0.9970 - val_loss: 0.1223 - val_accuracy: 0.9781\n",
      "Epoch 34/100\n",
      "469/469 [==============================] - 1s 2ms/step - loss: 0.0068 - accuracy: 0.9977 - val_loss: 0.1382 - val_accuracy: 0.9762\n",
      "Epoch 35/100\n",
      "469/469 [==============================] - 1s 3ms/step - loss: 0.0118 - accuracy: 0.9963 - val_loss: 0.1290 - val_accuracy: 0.9768\n",
      "Epoch 36/100\n",
      "469/469 [==============================] - 1s 2ms/step - loss: 0.0044 - accuracy: 0.9986 - val_loss: 0.1241 - val_accuracy: 0.9787\n",
      "Epoch 37/100\n",
      "469/469 [==============================] - 1s 2ms/step - loss: 0.0096 - accuracy: 0.9967 - val_loss: 0.1344 - val_accuracy: 0.9751\n",
      "Epoch 38/100\n",
      "469/469 [==============================] - 1s 2ms/step - loss: 0.0081 - accuracy: 0.9972 - val_loss: 0.1278 - val_accuracy: 0.9792\n",
      "Epoch 39/100\n",
      "469/469 [==============================] - 1s 2ms/step - loss: 0.0060 - accuracy: 0.9980 - val_loss: 0.1334 - val_accuracy: 0.9765\n",
      "Epoch 40/100\n",
      "469/469 [==============================] - 1s 2ms/step - loss: 0.0043 - accuracy: 0.9985 - val_loss: 0.1330 - val_accuracy: 0.9781\n",
      "Epoch 41/100\n",
      "469/469 [==============================] - 1s 2ms/step - loss: 0.0055 - accuracy: 0.9983 - val_loss: 0.1729 - val_accuracy: 0.9742\n",
      "Epoch 42/100\n",
      "469/469 [==============================] - 1s 2ms/step - loss: 0.0073 - accuracy: 0.9977 - val_loss: 0.1292 - val_accuracy: 0.9776\n",
      "Epoch 43/100\n",
      "469/469 [==============================] - 1s 2ms/step - loss: 0.0067 - accuracy: 0.9977 - val_loss: 0.1531 - val_accuracy: 0.9746\n",
      "Epoch 44/100\n",
      "469/469 [==============================] - 1s 2ms/step - loss: 0.0097 - accuracy: 0.9970 - val_loss: 0.1286 - val_accuracy: 0.9785\n",
      "Epoch 45/100\n",
      "469/469 [==============================] - 1s 2ms/step - loss: 0.0041 - accuracy: 0.9988 - val_loss: 0.1389 - val_accuracy: 0.9781\n",
      "Epoch 46/100\n",
      "469/469 [==============================] - 1s 2ms/step - loss: 0.0062 - accuracy: 0.9980 - val_loss: 0.1588 - val_accuracy: 0.9746\n",
      "Epoch 47/100\n",
      "469/469 [==============================] - 1s 2ms/step - loss: 0.0091 - accuracy: 0.9969 - val_loss: 0.1519 - val_accuracy: 0.9775\n",
      "Epoch 48/100\n",
      "469/469 [==============================] - 1s 2ms/step - loss: 0.0043 - accuracy: 0.9985 - val_loss: 0.1483 - val_accuracy: 0.9761\n",
      "Epoch 49/100\n",
      "469/469 [==============================] - 1s 2ms/step - loss: 0.0078 - accuracy: 0.9976 - val_loss: 0.1305 - val_accuracy: 0.9787\n",
      "Epoch 50/100\n",
      "469/469 [==============================] - 1s 2ms/step - loss: 0.0042 - accuracy: 0.9985 - val_loss: 0.1434 - val_accuracy: 0.9787\n",
      "Epoch 51/100\n",
      "469/469 [==============================] - 1s 2ms/step - loss: 0.0031 - accuracy: 0.9990 - val_loss: 0.1366 - val_accuracy: 0.9795\n",
      "Epoch 52/100\n",
      "469/469 [==============================] - 1s 2ms/step - loss: 0.0097 - accuracy: 0.9968 - val_loss: 0.1871 - val_accuracy: 0.9734\n",
      "Epoch 53/100\n",
      "469/469 [==============================] - 1s 2ms/step - loss: 0.0077 - accuracy: 0.9975 - val_loss: 0.1443 - val_accuracy: 0.9782\n",
      "Epoch 54/100\n",
      "469/469 [==============================] - 1s 2ms/step - loss: 0.0044 - accuracy: 0.9986 - val_loss: 0.1461 - val_accuracy: 0.9792\n",
      "Epoch 55/100\n",
      "469/469 [==============================] - 1s 2ms/step - loss: 0.0022 - accuracy: 0.9992 - val_loss: 0.1452 - val_accuracy: 0.9784\n",
      "Epoch 56/100\n",
      "469/469 [==============================] - 1s 2ms/step - loss: 0.0074 - accuracy: 0.9979 - val_loss: 0.1495 - val_accuracy: 0.9770\n",
      "Epoch 57/100\n",
      "469/469 [==============================] - 1s 2ms/step - loss: 0.0096 - accuracy: 0.9969 - val_loss: 0.1481 - val_accuracy: 0.9783\n"
     ]
    },
    {
     "name": "stdout",
     "output_type": "stream",
     "text": [
      "Epoch 58/100\n",
      "469/469 [==============================] - 1s 2ms/step - loss: 0.0034 - accuracy: 0.9991 - val_loss: 0.1526 - val_accuracy: 0.9789\n",
      "Epoch 59/100\n",
      "469/469 [==============================] - 1s 2ms/step - loss: 0.0012 - accuracy: 0.9997 - val_loss: 0.1472 - val_accuracy: 0.9799\n",
      "Epoch 60/100\n",
      "469/469 [==============================] - 1s 2ms/step - loss: 0.0030 - accuracy: 0.9993 - val_loss: 0.1986 - val_accuracy: 0.9721\n",
      "Epoch 61/100\n",
      "469/469 [==============================] - 1s 2ms/step - loss: 0.0111 - accuracy: 0.9967 - val_loss: 0.1580 - val_accuracy: 0.9762\n",
      "Epoch 62/100\n",
      "469/469 [==============================] - 1s 2ms/step - loss: 0.0047 - accuracy: 0.9986 - val_loss: 0.1705 - val_accuracy: 0.9758\n",
      "Epoch 63/100\n",
      "469/469 [==============================] - 1s 2ms/step - loss: 0.0071 - accuracy: 0.9976 - val_loss: 0.1617 - val_accuracy: 0.9764\n",
      "Epoch 64/100\n",
      "469/469 [==============================] - 1s 2ms/step - loss: 0.0063 - accuracy: 0.9978 - val_loss: 0.1683 - val_accuracy: 0.9758\n",
      "Epoch 65/100\n",
      "469/469 [==============================] - 1s 2ms/step - loss: 0.0043 - accuracy: 0.9985 - val_loss: 0.1482 - val_accuracy: 0.9798\n",
      "Epoch 66/100\n",
      "469/469 [==============================] - 1s 2ms/step - loss: 0.0019 - accuracy: 0.9994 - val_loss: 0.1574 - val_accuracy: 0.9784\n",
      "Epoch 67/100\n",
      "469/469 [==============================] - 1s 2ms/step - loss: 0.0076 - accuracy: 0.9977 - val_loss: 0.1566 - val_accuracy: 0.9778\n",
      "Epoch 68/100\n",
      "469/469 [==============================] - 1s 2ms/step - loss: 0.0057 - accuracy: 0.9984 - val_loss: 0.1736 - val_accuracy: 0.9739\n",
      "Epoch 69/100\n",
      "469/469 [==============================] - 1s 2ms/step - loss: 0.0048 - accuracy: 0.9985 - val_loss: 0.1762 - val_accuracy: 0.9753\n",
      "Epoch 70/100\n",
      "469/469 [==============================] - 1s 2ms/step - loss: 0.0040 - accuracy: 0.9986 - val_loss: 0.1600 - val_accuracy: 0.9783\n",
      "Epoch 71/100\n",
      "469/469 [==============================] - 1s 2ms/step - loss: 0.0030 - accuracy: 0.9990 - val_loss: 0.1663 - val_accuracy: 0.9759\n",
      "Epoch 72/100\n",
      "469/469 [==============================] - 1s 2ms/step - loss: 0.0104 - accuracy: 0.9969 - val_loss: 0.1782 - val_accuracy: 0.9732\n",
      "Epoch 73/100\n",
      "469/469 [==============================] - 1s 2ms/step - loss: 0.0033 - accuracy: 0.9990 - val_loss: 0.1599 - val_accuracy: 0.9761\n",
      "Epoch 74/100\n",
      "469/469 [==============================] - 1s 2ms/step - loss: 0.0021 - accuracy: 0.9994 - val_loss: 0.1471 - val_accuracy: 0.9805\n",
      "Epoch 75/100\n",
      "469/469 [==============================] - 1s 2ms/step - loss: 0.0018 - accuracy: 0.9995 - val_loss: 0.1764 - val_accuracy: 0.9768\n",
      "Epoch 76/100\n",
      "469/469 [==============================] - 1s 2ms/step - loss: 0.0087 - accuracy: 0.9977 - val_loss: 0.1843 - val_accuracy: 0.9750\n",
      "Epoch 77/100\n",
      "469/469 [==============================] - 1s 2ms/step - loss: 0.0078 - accuracy: 0.9976 - val_loss: 0.2157 - val_accuracy: 0.9707\n",
      "Epoch 78/100\n",
      "469/469 [==============================] - 1s 2ms/step - loss: 0.0038 - accuracy: 0.9989 - val_loss: 0.1795 - val_accuracy: 0.9761\n",
      "Epoch 79/100\n",
      "469/469 [==============================] - 1s 2ms/step - loss: 0.0013 - accuracy: 0.9997 - val_loss: 0.1505 - val_accuracy: 0.9799\n",
      "Epoch 80/100\n",
      "469/469 [==============================] - 1s 2ms/step - loss: 0.0036 - accuracy: 0.9989 - val_loss: 0.1683 - val_accuracy: 0.9774\n",
      "Epoch 81/100\n",
      "469/469 [==============================] - 1s 2ms/step - loss: 0.0043 - accuracy: 0.9986 - val_loss: 0.1809 - val_accuracy: 0.9773\n",
      "Epoch 82/100\n",
      "469/469 [==============================] - 1s 2ms/step - loss: 0.0097 - accuracy: 0.9971 - val_loss: 0.1807 - val_accuracy: 0.9763\n",
      "Epoch 83/100\n",
      "469/469 [==============================] - 1s 2ms/step - loss: 0.0041 - accuracy: 0.9985 - val_loss: 0.1590 - val_accuracy: 0.9785\n",
      "Epoch 84/100\n",
      "469/469 [==============================] - 1s 3ms/step - loss: 4.8878e-04 - accuracy: 0.9998 - val_loss: 0.1598 - val_accuracy: 0.9799\n",
      "Epoch 85/100\n",
      "469/469 [==============================] - 1s 2ms/step - loss: 4.2600e-04 - accuracy: 0.9999 - val_loss: 0.1542 - val_accuracy: 0.9801\n",
      "Epoch 86/100\n",
      "469/469 [==============================] - 1s 2ms/step - loss: 0.0076 - accuracy: 0.9979 - val_loss: 0.1987 - val_accuracy: 0.9755\n",
      "Epoch 87/100\n",
      "469/469 [==============================] - 1s 2ms/step - loss: 0.0079 - accuracy: 0.9976 - val_loss: 0.1759 - val_accuracy: 0.9766\n",
      "Epoch 88/100\n",
      "469/469 [==============================] - 1s 2ms/step - loss: 0.0037 - accuracy: 0.9989 - val_loss: 0.1814 - val_accuracy: 0.9770\n",
      "Epoch 89/100\n",
      "469/469 [==============================] - 1s 2ms/step - loss: 0.0018 - accuracy: 0.9994 - val_loss: 0.1822 - val_accuracy: 0.9771\n",
      "Epoch 90/100\n",
      "469/469 [==============================] - 1s 2ms/step - loss: 0.0075 - accuracy: 0.9979 - val_loss: 0.1797 - val_accuracy: 0.9770\n",
      "Epoch 91/100\n",
      "469/469 [==============================] - 1s 2ms/step - loss: 0.0053 - accuracy: 0.9987 - val_loss: 0.1826 - val_accuracy: 0.9775\n",
      "Epoch 92/100\n",
      "469/469 [==============================] - 1s 2ms/step - loss: 0.0018 - accuracy: 0.9995 - val_loss: 0.1637 - val_accuracy: 0.9793\n",
      "Epoch 93/100\n",
      "469/469 [==============================] - 1s 2ms/step - loss: 0.0066 - accuracy: 0.9981 - val_loss: 0.1812 - val_accuracy: 0.9767\n",
      "Epoch 94/100\n",
      "469/469 [==============================] - 1s 2ms/step - loss: 0.0041 - accuracy: 0.9986 - val_loss: 0.1794 - val_accuracy: 0.9800\n",
      "Epoch 95/100\n",
      "469/469 [==============================] - 1s 2ms/step - loss: 0.0034 - accuracy: 0.9988 - val_loss: 0.1940 - val_accuracy: 0.9759\n",
      "Epoch 96/100\n",
      "469/469 [==============================] - 1s 2ms/step - loss: 0.0032 - accuracy: 0.9992 - val_loss: 0.1910 - val_accuracy: 0.9775\n",
      "Epoch 97/100\n",
      "469/469 [==============================] - 1s 2ms/step - loss: 0.0032 - accuracy: 0.9990 - val_loss: 0.1780 - val_accuracy: 0.9790\n",
      "Epoch 98/100\n",
      "469/469 [==============================] - 1s 2ms/step - loss: 0.0027 - accuracy: 0.9991 - val_loss: 0.1851 - val_accuracy: 0.9778\n",
      "Epoch 99/100\n",
      "469/469 [==============================] - 1s 2ms/step - loss: 0.0068 - accuracy: 0.9981 - val_loss: 0.1975 - val_accuracy: 0.9759\n",
      "Epoch 100/100\n",
      "469/469 [==============================] - 1s 2ms/step - loss: 0.0019 - accuracy: 0.9993 - val_loss: 0.1853 - val_accuracy: 0.9772\n"
     ]
    }
   ],
   "source": [
    "# compile the model, choose the optimization objective function, learning rate\n",
    "#opt = SGD(learning_rate=learning_rate)\n",
    "opt = Adam()\n",
    "model_multilayer.compile(loss='categorical_crossentropy',\n",
    "              optimizer=opt,\n",
    "              metrics=['accuracy'])\n",
    "# train the model\n",
    "history = model_multilayer.fit(x=x_train, y=y_train,\n",
    "          batch_size=batch_size,\n",
    "          epochs=epochs,\n",
    "          validation_data=(x_test, y_test))"
   ]
  },
  {
   "cell_type": "code",
   "execution_count": 22,
   "metadata": {
    "colab": {},
    "colab_type": "code",
    "id": "ziZLqdjBpJe2"
   },
   "outputs": [],
   "source": [
    "training_loss = history.history['loss']\n",
    "test_loss = history.history['val_loss']\n",
    "training_acc = history.history['accuracy']\n",
    "test_acc = history.history['val_accuracy']"
   ]
  },
  {
   "cell_type": "markdown",
   "metadata": {
    "colab_type": "text",
    "id": "Ev49FXzFsmG9"
   },
   "source": []
  },
  {
   "cell_type": "code",
   "execution_count": 23,
   "metadata": {
    "colab": {
     "base_uri": "https://localhost:8080/",
     "height": 295
    },
    "colab_type": "code",
    "id": "wtk-deTV3Eu4",
    "outputId": "c1b1815a-13fd-4d94-99bf-9465b2e99a66"
   },
   "outputs": [
    {
     "data": {
      "image/png": "[encoded data removed]",
      "text/plain": [
       "<Figure size 432x288 with 1 Axes>"
      ]
     },
     "metadata": {
      "needs_background": "light"
     },
     "output_type": "display_data"
    }
   ],
   "source": [
    "plt.plot(training_acc, label = \"Training Accuracy\")\n",
    "plt.plot(test_acc, label = \"Test Accuracy\")\n",
    "# naming the x axis \n",
    "plt.xlabel('# of epochs') \n",
    "# naming the y axis \n",
    "plt.ylabel('Accuracy')\n",
    "# giving a title to my graph \n",
    "plt.title('Training and Test set accuracies vs. Epoch number')\n",
    "# show a legend on the plot \n",
    "plt.legend() \n",
    "# function to show the plot \n",
    "plt.show()"
   ]
  },
  {
   "cell_type": "code",
   "execution_count": 24,
   "metadata": {
    "colab": {
     "base_uri": "https://localhost:8080/",
     "height": 51
    },
    "colab_type": "code",
    "id": "x-CnF9512F6a",
    "outputId": "3bfc9c33-0a56-4075-a5f4-a3bab2d08115"
   },
   "outputs": [
    {
     "name": "stdout",
     "output_type": "stream",
     "text": [
      "Test loss: 0.1853315681219101\n",
      "Test accuracy: 0.9771999716758728\n"
     ]
    }
   ],
   "source": [
    "# reporting of the results\n",
    "score = model_multilayer.evaluate(x_test, y_test, verbose=0)\n",
    "print('Test loss:', score[0])\n",
    "print('Test accuracy:', score[1])"
   ]
  },
  {
   "cell_type": "code",
   "execution_count": 25,
   "metadata": {
    "colab": {},
    "colab_type": "code",
    "id": "zXPndjHSIaH5"
   },
   "outputs": [],
   "source": [
    "del model_multilayer"
   ]
  }
 ],
 "metadata": {
  "colab": {
   "collapsed_sections": [],
   "name": "Task2_part2.ipynb",
   "provenance": []
  },
  "kernelspec": {
   "display_name": "Python 3",
   "language": "python",
   "name": "python3"
  },
  "language_info": {
   "codemirror_mode": {
    "name": "ipython",
    "version": 3
   },
   "file_extension": ".py",
   "mimetype": "text/x-python",
   "name": "python",
   "nbconvert_exporter": "python",
   "pygments_lexer": "ipython3",
   "version": "3.7.7"
  }
 },
 "nbformat": 4,
 "nbformat_minor": 1
}
