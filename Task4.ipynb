{
 "cells": [
  {
   "cell_type": "code",
   "execution_count": 1,
   "metadata": {
    "colab": {},
    "colab_type": "code",
    "id": "mwGHZhnx7rWv"
   },
   "outputs": [
    {
     "name": "stderr",
     "output_type": "stream",
     "text": [
      "Using TensorFlow backend.\n"
     ]
    }
   ],
   "source": [
    "from __future__ import print_function\n",
    "#import keras\n",
    "import numpy as np\n",
    "import pandas as pd\n",
    "import matplotlib.pyplot as plt\n",
    "from sklearn.metrics import confusion_matrix\n",
    "from keras.datasets import mnist\n",
    "from tensorflow.keras.models import Sequential\n",
    "from tensorflow.keras.layers import Dense, Dropout, Flatten\n",
    "from tensorflow.keras.layers import Conv2D, MaxPooling2D\n",
    "from tensorflow.keras.optimizers import SGD, Adam, Adadelta\n",
    "from tensorflow.keras.utils import to_categorical\n",
    "from tensorflow.keras import backend as K"
   ]
  },
  {
   "cell_type": "code",
   "execution_count": 2,
   "metadata": {
    "colab": {},
    "colab_type": "code",
    "id": "dOcqCsM27tUX"
   },
   "outputs": [],
   "source": [
    "batch_size = 128\n",
    "num_classes = 10\n",
    "\n",
    "# input image dimensions\n",
    "img_rows, img_cols = 28, 28"
   ]
  },
  {
   "cell_type": "code",
   "execution_count": 3,
   "metadata": {
    "colab": {
     "base_uri": "https://localhost:8080/",
     "height": 68
    },
    "colab_type": "code",
    "id": "hesGs89_7tk4",
    "outputId": "bfe1acff-5afe-4015-c826-cf3abc34249f"
   },
   "outputs": [
    {
     "name": "stdout",
     "output_type": "stream",
     "text": [
      "x_train shape: (60000, 28, 28, 1)\n",
      "60000 train samples\n",
      "10000 test samples\n"
     ]
    }
   ],
   "source": [
    "# the data, split between train and test sets\n",
    "(x_train, y_train), (x_test, y_test) = mnist.load_data()\n",
    "\n",
    "if K.image_data_format() == 'channels_first':\n",
    "    x_train = x_train.reshape(x_train.shape[0], 1, img_rows, img_cols)\n",
    "    x_test = x_test.reshape(x_test.shape[0], 1, img_rows, img_cols)\n",
    "    input_shape = (1, img_rows, img_cols)\n",
    "else:\n",
    "    x_train = x_train.reshape(x_train.shape[0], img_rows, img_cols, 1)\n",
    "    x_test = x_test.reshape(x_test.shape[0], img_rows, img_cols, 1)\n",
    "    input_shape = (img_rows, img_cols, 1)\n",
    "\n",
    "x_train = x_train.astype('float32')\n",
    "x_test = x_test.astype('float32')\n",
    "x_train /= 255\n",
    "x_test /= 255\n",
    "print('x_train shape:', x_train.shape)\n",
    "print(x_train.shape[0], 'train samples')\n",
    "print(x_test.shape[0], 'test samples')"
   ]
  },
  {
   "cell_type": "code",
   "execution_count": 4,
   "metadata": {
    "colab": {},
    "colab_type": "code",
    "id": "pygJyAEu7trV"
   },
   "outputs": [],
   "source": [
    "# convert class vectors to binary class matrices\n",
    "y_train = to_categorical(y_train, num_classes)\n",
    "y_test = to_categorical(y_test, num_classes)\n",
    "\n",
    "def batch_generator(x_all, y_all, batch_size=128):\n",
    "    count = 0\n",
    "\n",
    "    while True:\n",
    "        \n",
    "        x_batch = x_all[count:count+batch_size,:,:,:]\n",
    "        y_batch = y_all[count:count+batch_size,:]\n",
    "        \n",
    "        count = count+batch_size\n",
    "        #print(count)\n",
    "        \n",
    "        if count>59000:\n",
    "            count = 0\n",
    "            \n",
    "        yield( (x_batch, y_batch) )"
   ]
  },
  {
   "cell_type": "code",
   "execution_count": 5,
   "metadata": {
    "colab": {},
    "colab_type": "code",
    "id": "JUIVmVIg76Cd"
   },
   "outputs": [],
   "source": [
    "# the neural network model is described:\n",
    "model_cnn_pure = Sequential()\n",
    "model_cnn_pure.add(Conv2D(8, kernel_size=(5, 5),\n",
    "                 activation='relu',\n",
    "                 input_shape=input_shape))\n",
    "model_cnn_pure.add(MaxPooling2D(pool_size=(4, 4)))\n",
    "model_cnn_pure.add(Flatten())\n",
    "model_cnn_pure.add(Dense(num_classes, activation='softmax'))\n",
    "\n",
    "opt = Adadelta()\n",
    "model_cnn_pure.compile(loss='categorical_crossentropy',\n",
    "              optimizer=opt,\n",
    "              metrics=['accuracy'])\n",
    "gener=batch_generator(x_train, y_train)"
   ]
  },
  {
   "cell_type": "code",
   "execution_count": 6,
   "metadata": {
    "colab": {
     "base_uri": "https://localhost:8080/",
     "height": 1000
    },
    "colab_type": "code",
    "id": "lB__6m4w79GN",
    "outputId": "83901f54-1d07-47de-a458-91fded5eb707"
   },
   "outputs": [
    {
     "data": {
      "image/png": "[encoded data removed]",
      "text/plain": [
       "<Figure size 432x288 with 1 Axes>"
      ]
     },
     "metadata": {
      "needs_background": "light"
     },
     "output_type": "display_data"
    },
    {
     "data": {
      "image/png": "[encoded data removed]",
      "text/plain": [
       "<Figure size 432x288 with 1 Axes>"
      ]
     },
     "metadata": {
      "needs_background": "light"
     },
     "output_type": "display_data"
    },
    {
     "data": {
      "image/png": "[encoded data removed]",
      "text/plain": [
       "<Figure size 432x288 with 1 Axes>"
      ]
     },
     "metadata": {
      "needs_background": "light"
     },
     "output_type": "display_data"
    },
    {
     "data": {
      "image/png": "[encoded data removed]",
      "text/plain": [
       "<Figure size 432x288 with 1 Axes>"
      ]
     },
     "metadata": {
      "needs_background": "light"
     },
     "output_type": "display_data"
    },
    {
     "name": "stdout",
     "output_type": "stream",
     "text": [
      "WARNING:tensorflow:From <ipython-input-6-ed2137aa5f6a>:20: Model.fit_generator (from tensorflow.python.keras.engine.training) is deprecated and will be removed in a future version.\n",
      "Instructions for updating:\n",
      "Please use Model.fit, which supports generators.\n",
      "10/10 [==============================] - 0s 2ms/step - loss: 2.3499 - accuracy: 0.0938\n"
     ]
    },
    {
     "data": {
      "text/plain": [
       "<tensorflow.python.keras.callbacks.History at 0x17845f6fa88>"
      ]
     },
     "execution_count": 6,
     "metadata": {},
     "output_type": "execute_result"
    }
   ],
   "source": [
    "# examine the CNN kernels\n",
    "\n",
    "layer1=model_cnn_pure.layers[0] # extract the CNN layer\n",
    "l1_weights = layer1.get_weights() # get the weights of the CNN layer\n",
    "l1_weights = l1_weights[0] # just get the kernel weights (l1_weights[1] contains the biases)\n",
    "plt.imshow(l1_weights[:,:,0,0],cmap=\"gray\") # plot the 0th kernel\n",
    "plt.grid(False)\n",
    "plt.show()\n",
    "plt.imshow(l1_weights[:,:,0,1],cmap=\"gray\") # plot the 1st kernel...  etc.\n",
    "plt.grid(False)\n",
    "plt.show()\n",
    "# add more...\n",
    "plt.imshow(l1_weights[:,:,0,2],cmap=\"gray\") # plot the 2st kernel...  etc.\n",
    "plt.grid(False)\n",
    "plt.show()\n",
    "plt.imshow(l1_weights[:,:,0,3],cmap=\"gray\") # plot the 3st kernel...  etc.\n",
    "plt.grid(False)\n",
    "plt.show()\n",
    "\n",
    "model_cnn_pure.fit_generator(gener, steps_per_epoch=10, verbose=1, epochs=1) # train the network for 10 batches"
   ]
  },
  {
   "cell_type": "code",
   "execution_count": 7,
   "metadata": {
    "colab": {
     "base_uri": "https://localhost:8080/",
     "height": 1000
    },
    "colab_type": "code",
    "id": "n9SqnoAT8Ipm",
    "outputId": "fffadda2-4ea3-4eb9-c483-bce1b2c53905"
   },
   "outputs": [
    {
     "data": {
      "image/png": "[encoded data removed]",
      "text/plain": [
       "<Figure size 432x288 with 1 Axes>"
      ]
     },
     "metadata": {
      "needs_background": "light"
     },
     "output_type": "display_data"
    },
    {
     "data": {
      "image/png": "[encoded data removed]",
      "text/plain": [
       "<Figure size 432x288 with 1 Axes>"
      ]
     },
     "metadata": {
      "needs_background": "light"
     },
     "output_type": "display_data"
    },
    {
     "data": {
      "image/png": "[encoded data removed]",
      "text/plain": [
       "<Figure size 432x288 with 1 Axes>"
      ]
     },
     "metadata": {
      "needs_background": "light"
     },
     "output_type": "display_data"
    },
    {
     "data": {
      "image/png": "[encoded data removed]",
      "text/plain": [
       "<Figure size 432x288 with 1 Axes>"
      ]
     },
     "metadata": {
      "needs_background": "light"
     },
     "output_type": "display_data"
    },
    {
     "name": "stdout",
     "output_type": "stream",
     "text": [
      "100/100 [==============================] - 0s 2ms/step - loss: 2.3465 - accuracy: 0.0957\n"
     ]
    },
    {
     "data": {
      "text/plain": [
       "<tensorflow.python.keras.callbacks.History at 0x1786a72fec8>"
      ]
     },
     "execution_count": 7,
     "metadata": {},
     "output_type": "execute_result"
    }
   ],
   "source": [
    "# examine the CNN kernels again (after 10 batches)\n",
    "\n",
    "layer1=model_cnn_pure.layers[0] # extract the CNN layer\n",
    "l1_weights = layer1.get_weights() # get the weights of the CNN layer\n",
    "l1_weights = l1_weights[0] # just get the kernel weights (l1_weights[1] contains the biases)\n",
    "plt.imshow(l1_weights[:,:,0,0],cmap=\"gray\") # plot the 0th kernel\n",
    "plt.grid(False)\n",
    "plt.show()\n",
    "plt.imshow(l1_weights[:,:,0,1],cmap=\"gray\") # plot the 1st kernel...  etc.\n",
    "plt.grid(False)\n",
    "plt.show()\n",
    "# add more...\n",
    "plt.imshow(l1_weights[:,:,0,2],cmap=\"gray\") # plot the 2nd kernel\n",
    "plt.grid(False)\n",
    "plt.show()\n",
    "plt.imshow(l1_weights[:,:,0,3],cmap=\"gray\") # plot the 3rd kernel...  etc.\n",
    "plt.grid(False)\n",
    "plt.show()\n",
    "\n",
    "model_cnn_pure.fit_generator(gener, steps_per_epoch=100, verbose=1, epochs=1) # train the network for an additional 100 batches\n",
    "\n",
    "# rinse and repeat.."
   ]
  },
  {
   "cell_type": "code",
   "execution_count": 8,
   "metadata": {
    "colab": {
     "base_uri": "https://localhost:8080/",
     "height": 1000
    },
    "colab_type": "code",
    "id": "kDa62uvgCEEp",
    "outputId": "e8dbea03-cb64-437a-b7b3-1ae0366a71c9"
   },
   "outputs": [
    {
     "data": {
      "image/png": "[encoded data removed]",
      "text/plain": [
       "<Figure size 432x288 with 1 Axes>"
      ]
     },
     "metadata": {
      "needs_background": "light"
     },
     "output_type": "display_data"
    },
    {
     "data": {
      "image/png": "[encoded data removed]",
      "text/plain": [
       "<Figure size 432x288 with 1 Axes>"
      ]
     },
     "metadata": {
      "needs_background": "light"
     },
     "output_type": "display_data"
    },
    {
     "data": {
      "image/png": "[encoded data removed]",
      "text/plain": [
       "<Figure size 432x288 with 1 Axes>"
      ]
     },
     "metadata": {
      "needs_background": "light"
     },
     "output_type": "display_data"
    },
    {
     "data": {
      "image/png": "[encoded data removed]",
      "text/plain": [
       "<Figure size 432x288 with 1 Axes>"
      ]
     },
     "metadata": {
      "needs_background": "light"
     },
     "output_type": "display_data"
    },
    {
     "name": "stdout",
     "output_type": "stream",
     "text": [
      "1000/1000 [==============================] - 1s 1ms/step - loss: 2.3274 - accuracy: 0.1011\n"
     ]
    },
    {
     "data": {
      "text/plain": [
       "<tensorflow.python.keras.callbacks.History at 0x1786c1c7b88>"
      ]
     },
     "execution_count": 8,
     "metadata": {},
     "output_type": "execute_result"
    }
   ],
   "source": [
    "# examine the CNN kernels again (after 100 batches)\n",
    "\n",
    "layer1=model_cnn_pure.layers[0] # extract the CNN layer\n",
    "l1_weights = layer1.get_weights() # get the weights of the CNN layer\n",
    "l1_weights = l1_weights[0] # just get the kernel weights (l1_weights[1] contains the biases)\n",
    "plt.imshow(l1_weights[:,:,0,0],cmap=\"gray\") # plot the 0th kernel\n",
    "plt.grid(False)\n",
    "plt.show()\n",
    "plt.imshow(l1_weights[:,:,0,1],cmap=\"gray\") # plot the 1st kernel...  etc.\n",
    "plt.grid(False)\n",
    "plt.show()\n",
    "# add more...\n",
    "plt.imshow(l1_weights[:,:,0,2],cmap=\"gray\") # plot the 2nd kernel\n",
    "plt.grid(False)\n",
    "plt.show()\n",
    "plt.imshow(l1_weights[:,:,0,3],cmap=\"gray\") # plot the 3rd kernel...  etc.\n",
    "plt.grid(False)\n",
    "plt.show()\n",
    "\n",
    "model_cnn_pure.fit_generator(gener, steps_per_epoch=1000, verbose=1, epochs=1) # train the network for an additional 1000 batches"
   ]
  },
  {
   "cell_type": "code",
   "execution_count": 9,
   "metadata": {
    "colab": {
     "base_uri": "https://localhost:8080/",
     "height": 1000
    },
    "colab_type": "code",
    "id": "klMjt21wDRZ3",
    "outputId": "99e21094-db18-40ff-c69a-157ebb0e3398"
   },
   "outputs": [
    {
     "data": {
      "image/png": "[encoded data removed]",
      "text/plain": [
       "<Figure size 432x288 with 1 Axes>"
      ]
     },
     "metadata": {
      "needs_background": "light"
     },
     "output_type": "display_data"
    },
    {
     "data": {
      "image/png": "[encoded data removed]",
      "text/plain": [
       "<Figure size 432x288 with 1 Axes>"
      ]
     },
     "metadata": {
      "needs_background": "light"
     },
     "output_type": "display_data"
    },
    {
     "data": {
      "image/png": "[encoded data removed]",
      "text/plain": [
       "<Figure size 432x288 with 1 Axes>"
      ]
     },
     "metadata": {
      "needs_background": "light"
     },
     "output_type": "display_data"
    },
    {
     "data": {
      "image/png": "[encoded data removed]",
      "text/plain": [
       "<Figure size 432x288 with 1 Axes>"
      ]
     },
     "metadata": {
      "needs_background": "light"
     },
     "output_type": "display_data"
    },
    {
     "name": "stdout",
     "output_type": "stream",
     "text": [
      "10000/10000 [==============================] - 16s 2ms/step - loss: 2.1776 - accuracy: 0.3009\n"
     ]
    },
    {
     "data": {
      "text/plain": [
       "<tensorflow.python.keras.callbacks.History at 0x1786ec9a548>"
      ]
     },
     "execution_count": 9,
     "metadata": {},
     "output_type": "execute_result"
    }
   ],
   "source": [
    "# examine the CNN kernels again (after 1000 batches)\n",
    "\n",
    "layer1=model_cnn_pure.layers[0] # extract the CNN layer\n",
    "l1_weights = layer1.get_weights() # get the weights of the CNN layer\n",
    "l1_weights = l1_weights[0] # just get the kernel weights (l1_weights[1] contains the biases)\n",
    "plt.imshow(l1_weights[:,:,0,0],cmap=\"gray\") # plot the 0th kernel\n",
    "plt.grid(False)\n",
    "plt.show()\n",
    "plt.imshow(l1_weights[:,:,0,1],cmap=\"gray\") # plot the 1st kernel...  etc.\n",
    "plt.grid(False)\n",
    "plt.show()\n",
    "# add more...\n",
    "plt.imshow(l1_weights[:,:,0,2],cmap=\"gray\") # plot the 2nd kernel\n",
    "plt.grid(False)\n",
    "plt.show()\n",
    "plt.imshow(l1_weights[:,:,0,3],cmap=\"gray\") # plot the 3rd kernel...  etc.\n",
    "plt.grid(False)\n",
    "plt.show()\n",
    "\n",
    "model_cnn_pure.fit_generator(gener, steps_per_epoch=10000, verbose=1, epochs=1) # train the network for an additional 10000 batches"
   ]
  },
  {
   "cell_type": "code",
   "execution_count": 10,
   "metadata": {
    "colab": {
     "base_uri": "https://localhost:8080/",
     "height": 1000
    },
    "colab_type": "code",
    "id": "g07v7HxBa1rN",
    "outputId": "60411b29-3aaa-4eb3-9ebc-0cfc49e7f918"
   },
   "outputs": [
    {
     "data": {
      "image/png": "[encoded data removed]",
      "text/plain": [
       "<Figure size 432x288 with 1 Axes>"
      ]
     },
     "metadata": {
      "needs_background": "light"
     },
     "output_type": "display_data"
    },
    {
     "data": {
      "image/png": "[encoded data removed]",
      "text/plain": [
       "<Figure size 432x288 with 1 Axes>"
      ]
     },
     "metadata": {
      "needs_background": "light"
     },
     "output_type": "display_data"
    },
    {
     "data": {
      "image/png": "[encoded data removed]",
      "text/plain": [
       "<Figure size 432x288 with 1 Axes>"
      ]
     },
     "metadata": {
      "needs_background": "light"
     },
     "output_type": "display_data"
    },
    {
     "data": {
      "image/png": "[encoded data removed]",
      "text/plain": [
       "<Figure size 432x288 with 1 Axes>"
      ]
     },
     "metadata": {
      "needs_background": "light"
     },
     "output_type": "display_data"
    }
   ],
   "source": [
    "# examine the CNN kernels again (after 10000 batches)\n",
    "\n",
    "layer1=model_cnn_pure.layers[0] # extract the CNN layer\n",
    "l1_weights = layer1.get_weights() # get the weights of the CNN layer\n",
    "l1_weights = l1_weights[0] # just get the kernel weights (l1_weights[1] contains the biases)\n",
    "plt.imshow(l1_weights[:,:,0,0],cmap=\"gray\") # plot the 0th kernel\n",
    "plt.grid(False)\n",
    "plt.show()\n",
    "plt.imshow(l1_weights[:,:,0,1],cmap=\"gray\") # plot the 1st kernel...  etc.\n",
    "plt.grid(False)\n",
    "plt.show()\n",
    "# add more...\n",
    "plt.imshow(l1_weights[:,:,0,2],cmap=\"gray\") # plot the 2nd kernel\n",
    "plt.grid(False)\n",
    "plt.show()\n",
    "plt.imshow(l1_weights[:,:,0,3],cmap=\"gray\") # plot the 3rd kernel...  etc.\n",
    "plt.grid(False)\n",
    "plt.show()\n",
    "\n",
    "#model_cnn_pure.fit_generator(gener, steps_per_epoch=100000, verbose=1, epochs=1, max_q_size=1) # train the network for an additional 100000 batches"
   ]
  }
 ],
 "metadata": {
  "colab": {
   "name": "Task4.ipynb",
   "provenance": []
  },
  "kernelspec": {
   "display_name": "Python 3",
   "language": "python",
   "name": "python3"
  },
  "language_info": {
   "codemirror_mode": {
    "name": "ipython",
    "version": 3
   },
   "file_extension": ".py",
   "mimetype": "text/x-python",
   "name": "python",
   "nbconvert_exporter": "python",
   "pygments_lexer": "ipython3",
   "version": "3.7.7"
  }
 },
 "nbformat": 4,
 "nbformat_minor": 1
}
