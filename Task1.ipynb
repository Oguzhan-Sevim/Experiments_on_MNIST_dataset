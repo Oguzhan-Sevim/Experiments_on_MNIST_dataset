{
 "cells": [
  {
   "cell_type": "code",
   "execution_count": 6,
   "metadata": {
    "colab": {},
    "colab_type": "code",
    "id": "v7RSN6fZ0s9C"
   },
   "outputs": [],
   "source": [
    "from __future__ import print_function\n",
    "#import keras\n",
    "import numpy as np\n",
    "import pandas as pd\n",
    "import matplotlib.pyplot as plt\n",
    "from sklearn.metrics import confusion_matrix\n",
    "from keras.datasets import mnist\n",
    "from tensorflow.keras.models import Sequential\n",
    "from tensorflow.keras.layers import Dense, Dropout, Flatten\n",
    "from tensorflow.keras.layers import Conv2D, MaxPooling2D\n",
    "from tensorflow.keras.optimizers import SGD\n",
    "from tensorflow.keras.utils import to_categorical\n",
    "from tensorflow.keras import backend as K"
   ]
  },
  {
   "cell_type": "code",
   "execution_count": 2,
   "metadata": {
    "colab": {},
    "colab_type": "code",
    "id": "kY6woxhv0tvR"
   },
   "outputs": [],
   "source": [
    "batch_size = 128\n",
    "num_classes = 10\n",
    "epochs = 200 # experiment with this\n",
    "learning_rate = 0.01 # experiment with this\n",
    "\n",
    "# input image dimensions\n",
    "img_rows, img_cols = 28, 28"
   ]
  },
  {
   "cell_type": "code",
   "execution_count": 3,
   "metadata": {
    "colab": {
     "base_uri": "https://localhost:8080/",
     "height": 68
    },
    "colab_type": "code",
    "id": "rbp2tgIn12Vl",
    "outputId": "bd3fc442-73b3-44e4-8221-82ea52fd2600"
   },
   "outputs": [
    {
     "name": "stdout",
     "output_type": "stream",
     "text": [
      "x_train shape: (60000, 28, 28, 1)\n",
      "60000 train samples\n",
      "10000 test samples\n"
     ]
    }
   ],
   "source": [
    "# the data, split between train and test sets\n",
    "(x_train, y_train), (x_test, y_test) = mnist.load_data()\n",
    "\n",
    "if K.image_data_format() == 'channels_first':\n",
    "    x_train = x_train.reshape(x_train.shape[0], 1, img_rows, img_cols)\n",
    "    x_test = x_test.reshape(x_test.shape[0], 1, img_rows, img_cols)\n",
    "    input_shape = (1, img_rows, img_cols)\n",
    "else:\n",
    "    x_train = x_train.reshape(x_train.shape[0], img_rows, img_cols, 1)\n",
    "    x_test = x_test.reshape(x_test.shape[0], img_rows, img_cols, 1)\n",
    "    input_shape = (img_rows, img_cols, 1)\n",
    "\n",
    "x_train = x_train.astype('float32')\n",
    "x_test = x_test.astype('float32')\n",
    "x_train /= 255\n",
    "x_test /= 255\n",
    "print('x_train shape:', x_train.shape)\n",
    "print(x_train.shape[0], 'train samples')\n",
    "print(x_test.shape[0], 'test samples')"
   ]
  },
  {
   "cell_type": "code",
   "execution_count": 4,
   "metadata": {
    "colab": {
     "base_uri": "https://localhost:8080/",
     "height": 51
    },
    "colab_type": "code",
    "id": "f8KsMovg5S5E",
    "outputId": "08cb08c4-2080-4ddf-e157-cd7e1158d434"
   },
   "outputs": [
    {
     "name": "stdout",
     "output_type": "stream",
     "text": [
      "y_train shape: (60000,)\n",
      "y_test shape: (10000,)\n"
     ]
    }
   ],
   "source": [
    "print('y_train shape:', y_train.shape)\n",
    "print('y_test shape:', y_test.shape)"
   ]
  },
  {
   "cell_type": "code",
   "execution_count": 7,
   "metadata": {
    "colab": {},
    "colab_type": "code",
    "id": "BOijU7_n18qv"
   },
   "outputs": [],
   "source": [
    "# convert class vectors to binary class matrices\n",
    "y_train = to_categorical(y_train, num_classes)\n",
    "y_test = to_categorical(y_test, num_classes)"
   ]
  },
  {
   "cell_type": "code",
   "execution_count": 8,
   "metadata": {
    "colab": {
     "base_uri": "https://localhost:8080/",
     "height": 51
    },
    "colab_type": "code",
    "id": "g1WDzGWj5jus",
    "outputId": "fa857ae8-a5c1-46a7-d75b-d0b3f06d5978"
   },
   "outputs": [
    {
     "name": "stdout",
     "output_type": "stream",
     "text": [
      "y_train shape: (60000, 10)\n",
      "y_test shape: (10000, 10)\n"
     ]
    }
   ],
   "source": [
    "print('y_train shape:', y_train.shape)\n",
    "print('y_test shape:', y_test.shape)"
   ]
  },
  {
   "cell_type": "code",
   "execution_count": 9,
   "metadata": {
    "colab": {},
    "colab_type": "code",
    "id": "si_S4mDA1_AB"
   },
   "outputs": [],
   "source": [
    "# the neural network model is described:\n",
    "model_linear = Sequential()\n",
    "model_linear.add(Flatten())\n",
    "model_linear.add(Dense(num_classes, activation='softmax'))"
   ]
  },
  {
   "cell_type": "code",
   "execution_count": 11,
   "metadata": {
    "colab": {
     "base_uri": "https://localhost:8080/",
     "height": 1000
    },
    "colab_type": "code",
    "id": "JacVEcOm2Crh",
    "outputId": "6d255fca-42e9-4570-8fb3-63d789dbeda0"
   },
   "outputs": [
    {
     "name": "stdout",
     "output_type": "stream",
     "text": [
      "Epoch 1/200\n",
      "469/469 [==============================] - 1s 1ms/step - loss: 1.2892 - accuracy: 0.7027 - val_loss: 0.8075 - val_accuracy: 0.8344\n",
      "Epoch 2/200\n",
      "469/469 [==============================] - 1s 1ms/step - loss: 0.7138 - accuracy: 0.8408 - val_loss: 0.6043 - val_accuracy: 0.8635\n",
      "Epoch 3/200\n",
      "469/469 [==============================] - 1s 1ms/step - loss: 0.5854 - accuracy: 0.8600 - val_loss: 0.5237 - val_accuracy: 0.8767\n",
      "Epoch 4/200\n",
      "469/469 [==============================] - 1s 1ms/step - loss: 0.5239 - accuracy: 0.8694 - val_loss: 0.4785 - val_accuracy: 0.8823\n",
      "Epoch 5/200\n",
      "469/469 [==============================] - 1s 2ms/step - loss: 0.4866 - accuracy: 0.8755 - val_loss: 0.4490 - val_accuracy: 0.8872\n",
      "Epoch 6/200\n",
      "469/469 [==============================] - 1s 1ms/step - loss: 0.4609 - accuracy: 0.8804 - val_loss: 0.4277 - val_accuracy: 0.8907\n",
      "Epoch 7/200\n",
      "469/469 [==============================] - 1s 2ms/step - loss: 0.4418 - accuracy: 0.8841 - val_loss: 0.4118 - val_accuracy: 0.8930\n",
      "Epoch 8/200\n",
      "469/469 [==============================] - 1s 1ms/step - loss: 0.4270 - accuracy: 0.8869 - val_loss: 0.3991 - val_accuracy: 0.8960\n",
      "Epoch 9/200\n",
      "469/469 [==============================] - 1s 1ms/step - loss: 0.4150 - accuracy: 0.8894 - val_loss: 0.3892 - val_accuracy: 0.8973\n",
      "Epoch 10/200\n",
      "469/469 [==============================] - 1s 1ms/step - loss: 0.4051 - accuracy: 0.8913 - val_loss: 0.3803 - val_accuracy: 0.8996\n",
      "Epoch 11/200\n",
      "469/469 [==============================] - 1s 1ms/step - loss: 0.3967 - accuracy: 0.8928 - val_loss: 0.3729 - val_accuracy: 0.9005\n",
      "Epoch 12/200\n",
      "469/469 [==============================] - 1s 2ms/step - loss: 0.3894 - accuracy: 0.8943 - val_loss: 0.3666 - val_accuracy: 0.9022\n",
      "Epoch 13/200\n",
      "469/469 [==============================] - 1s 2ms/step - loss: 0.3831 - accuracy: 0.8956 - val_loss: 0.3611 - val_accuracy: 0.9036\n",
      "Epoch 14/200\n",
      "469/469 [==============================] - 1s 1ms/step - loss: 0.3775 - accuracy: 0.8968 - val_loss: 0.3561 - val_accuracy: 0.9045\n",
      "Epoch 15/200\n",
      "469/469 [==============================] - 1s 1ms/step - loss: 0.3725 - accuracy: 0.8976 - val_loss: 0.3520 - val_accuracy: 0.9060\n",
      "Epoch 16/200\n",
      "469/469 [==============================] - 1s 1ms/step - loss: 0.3680 - accuracy: 0.8989 - val_loss: 0.3479 - val_accuracy: 0.9071\n",
      "Epoch 17/200\n",
      "469/469 [==============================] - 1s 1ms/step - loss: 0.3639 - accuracy: 0.8999 - val_loss: 0.3442 - val_accuracy: 0.9076\n",
      "Epoch 18/200\n",
      "469/469 [==============================] - 1s 1ms/step - loss: 0.3601 - accuracy: 0.9009 - val_loss: 0.3414 - val_accuracy: 0.9084\n",
      "Epoch 19/200\n",
      "469/469 [==============================] - 1s 1ms/step - loss: 0.3568 - accuracy: 0.9016 - val_loss: 0.3380 - val_accuracy: 0.9092\n",
      "Epoch 20/200\n",
      "469/469 [==============================] - 1s 1ms/step - loss: 0.3536 - accuracy: 0.9022 - val_loss: 0.3355 - val_accuracy: 0.9102\n",
      "Epoch 21/200\n",
      "469/469 [==============================] - 1s 1ms/step - loss: 0.3507 - accuracy: 0.9028 - val_loss: 0.3331 - val_accuracy: 0.9109\n",
      "Epoch 22/200\n",
      "469/469 [==============================] - 1s 2ms/step - loss: 0.3480 - accuracy: 0.9034 - val_loss: 0.3305 - val_accuracy: 0.9121\n",
      "Epoch 23/200\n",
      "469/469 [==============================] - 1s 1ms/step - loss: 0.3455 - accuracy: 0.9040 - val_loss: 0.3284 - val_accuracy: 0.9120\n",
      "Epoch 24/200\n",
      "469/469 [==============================] - 1s 2ms/step - loss: 0.3431 - accuracy: 0.9045 - val_loss: 0.3263 - val_accuracy: 0.9121\n",
      "Epoch 25/200\n",
      "469/469 [==============================] - 1s 1ms/step - loss: 0.3409 - accuracy: 0.9050 - val_loss: 0.3243 - val_accuracy: 0.9128\n",
      "Epoch 26/200\n",
      "469/469 [==============================] - 1s 1ms/step - loss: 0.3388 - accuracy: 0.9058 - val_loss: 0.3225 - val_accuracy: 0.9131\n",
      "Epoch 27/200\n",
      "469/469 [==============================] - 1s 1ms/step - loss: 0.3369 - accuracy: 0.9062 - val_loss: 0.3209 - val_accuracy: 0.9138\n",
      "Epoch 28/200\n",
      "469/469 [==============================] - 1s 1ms/step - loss: 0.3350 - accuracy: 0.9068 - val_loss: 0.3195 - val_accuracy: 0.9140\n",
      "Epoch 29/200\n",
      "469/469 [==============================] - 1s 1ms/step - loss: 0.3332 - accuracy: 0.9075 - val_loss: 0.3177 - val_accuracy: 0.9144\n",
      "Epoch 30/200\n",
      "469/469 [==============================] - 1s 1ms/step - loss: 0.3316 - accuracy: 0.9079 - val_loss: 0.3163 - val_accuracy: 0.9144\n",
      "Epoch 31/200\n",
      "469/469 [==============================] - 1s 1ms/step - loss: 0.3300 - accuracy: 0.9083 - val_loss: 0.3152 - val_accuracy: 0.9145\n",
      "Epoch 32/200\n",
      "469/469 [==============================] - 1s 1ms/step - loss: 0.3284 - accuracy: 0.9086 - val_loss: 0.3142 - val_accuracy: 0.9147\n",
      "Epoch 33/200\n",
      "469/469 [==============================] - 1s 1ms/step - loss: 0.3269 - accuracy: 0.9091 - val_loss: 0.3128 - val_accuracy: 0.9146\n",
      "Epoch 34/200\n",
      "469/469 [==============================] - 1s 1ms/step - loss: 0.3256 - accuracy: 0.9094 - val_loss: 0.3115 - val_accuracy: 0.9144\n",
      "Epoch 35/200\n",
      "469/469 [==============================] - 1s 1ms/step - loss: 0.3243 - accuracy: 0.9096 - val_loss: 0.3105 - val_accuracy: 0.9146\n",
      "Epoch 36/200\n",
      "469/469 [==============================] - 1s 1ms/step - loss: 0.3230 - accuracy: 0.9104 - val_loss: 0.3094 - val_accuracy: 0.9159\n",
      "Epoch 37/200\n",
      "469/469 [==============================] - 1s 1ms/step - loss: 0.3218 - accuracy: 0.9105 - val_loss: 0.3085 - val_accuracy: 0.9159\n",
      "Epoch 38/200\n",
      "469/469 [==============================] - 1s 1ms/step - loss: 0.3206 - accuracy: 0.9105 - val_loss: 0.3075 - val_accuracy: 0.9159\n",
      "Epoch 39/200\n",
      "469/469 [==============================] - 1s 1ms/step - loss: 0.3195 - accuracy: 0.9111 - val_loss: 0.3067 - val_accuracy: 0.9158\n",
      "Epoch 40/200\n",
      "469/469 [==============================] - 1s 2ms/step - loss: 0.3184 - accuracy: 0.9112 - val_loss: 0.3057 - val_accuracy: 0.9165\n",
      "Epoch 41/200\n",
      "469/469 [==============================] - 1s 1ms/step - loss: 0.3173 - accuracy: 0.9119 - val_loss: 0.3048 - val_accuracy: 0.9159\n",
      "Epoch 42/200\n",
      "469/469 [==============================] - 1s 1ms/step - loss: 0.3164 - accuracy: 0.9118 - val_loss: 0.3040 - val_accuracy: 0.9171\n",
      "Epoch 43/200\n",
      "469/469 [==============================] - 1s 1ms/step - loss: 0.3154 - accuracy: 0.9124 - val_loss: 0.3031 - val_accuracy: 0.9171\n",
      "Epoch 44/200\n",
      "469/469 [==============================] - 1s 1ms/step - loss: 0.3145 - accuracy: 0.9125 - val_loss: 0.3026 - val_accuracy: 0.9177\n",
      "Epoch 45/200\n",
      "469/469 [==============================] - 1s 1ms/step - loss: 0.3136 - accuracy: 0.9129 - val_loss: 0.3019 - val_accuracy: 0.9172\n",
      "Epoch 46/200\n",
      "469/469 [==============================] - 1s 1ms/step - loss: 0.3127 - accuracy: 0.9130 - val_loss: 0.3010 - val_accuracy: 0.9175\n",
      "Epoch 47/200\n",
      "469/469 [==============================] - 1s 1ms/step - loss: 0.3118 - accuracy: 0.9133 - val_loss: 0.3006 - val_accuracy: 0.9172\n",
      "Epoch 48/200\n",
      "469/469 [==============================] - 1s 1ms/step - loss: 0.3110 - accuracy: 0.9137 - val_loss: 0.2996 - val_accuracy: 0.9178\n",
      "Epoch 49/200\n",
      "469/469 [==============================] - 1s 1ms/step - loss: 0.3102 - accuracy: 0.9138 - val_loss: 0.2990 - val_accuracy: 0.9177\n",
      "Epoch 50/200\n",
      "469/469 [==============================] - 1s 1ms/step - loss: 0.3094 - accuracy: 0.9139 - val_loss: 0.2983 - val_accuracy: 0.9178\n",
      "Epoch 51/200\n",
      "469/469 [==============================] - 1s 1ms/step - loss: 0.3087 - accuracy: 0.9140 - val_loss: 0.2981 - val_accuracy: 0.9181\n",
      "Epoch 52/200\n",
      "469/469 [==============================] - 1s 1ms/step - loss: 0.3079 - accuracy: 0.9143 - val_loss: 0.2974 - val_accuracy: 0.9187\n",
      "Epoch 53/200\n",
      "469/469 [==============================] - 1s 1ms/step - loss: 0.3072 - accuracy: 0.9148 - val_loss: 0.2966 - val_accuracy: 0.9183\n",
      "Epoch 54/200\n",
      "469/469 [==============================] - 1s 1ms/step - loss: 0.3065 - accuracy: 0.9146 - val_loss: 0.2964 - val_accuracy: 0.9183\n",
      "Epoch 55/200\n",
      "469/469 [==============================] - 1s 1ms/step - loss: 0.3058 - accuracy: 0.9148 - val_loss: 0.2956 - val_accuracy: 0.9182\n",
      "Epoch 56/200\n",
      "469/469 [==============================] - 1s 1ms/step - loss: 0.3052 - accuracy: 0.9150 - val_loss: 0.2953 - val_accuracy: 0.9184\n",
      "Epoch 57/200\n",
      "469/469 [==============================] - 1s 1ms/step - loss: 0.3046 - accuracy: 0.9153 - val_loss: 0.2948 - val_accuracy: 0.9185\n"
     ]
    },
    {
     "name": "stdout",
     "output_type": "stream",
     "text": [
      "Epoch 58/200\n",
      "469/469 [==============================] - 1s 1ms/step - loss: 0.3039 - accuracy: 0.9154 - val_loss: 0.2941 - val_accuracy: 0.9184\n",
      "Epoch 59/200\n",
      "469/469 [==============================] - 1s 1ms/step - loss: 0.3033 - accuracy: 0.9155 - val_loss: 0.2941 - val_accuracy: 0.9185\n",
      "Epoch 60/200\n",
      "469/469 [==============================] - 1s 1ms/step - loss: 0.3027 - accuracy: 0.9162 - val_loss: 0.2935 - val_accuracy: 0.9191\n",
      "Epoch 61/200\n",
      "469/469 [==============================] - 1s 1ms/step - loss: 0.3021 - accuracy: 0.9159 - val_loss: 0.2929 - val_accuracy: 0.9196\n",
      "Epoch 62/200\n",
      "469/469 [==============================] - 1s 1ms/step - loss: 0.3016 - accuracy: 0.9164 - val_loss: 0.2926 - val_accuracy: 0.9193\n",
      "Epoch 63/200\n",
      "469/469 [==============================] - 1s 1ms/step - loss: 0.3010 - accuracy: 0.9163 - val_loss: 0.2923 - val_accuracy: 0.9196\n",
      "Epoch 64/200\n",
      "469/469 [==============================] - 1s 1ms/step - loss: 0.3005 - accuracy: 0.9166 - val_loss: 0.2917 - val_accuracy: 0.9195\n",
      "Epoch 65/200\n",
      "469/469 [==============================] - 1s 1ms/step - loss: 0.3000 - accuracy: 0.9167 - val_loss: 0.2913 - val_accuracy: 0.9193\n",
      "Epoch 66/200\n",
      "469/469 [==============================] - 1s 1ms/step - loss: 0.2994 - accuracy: 0.9172 - val_loss: 0.2910 - val_accuracy: 0.9194\n",
      "Epoch 67/200\n",
      "469/469 [==============================] - 1s 1ms/step - loss: 0.2989 - accuracy: 0.9170 - val_loss: 0.2904 - val_accuracy: 0.9200\n",
      "Epoch 68/200\n",
      "469/469 [==============================] - 1s 1ms/step - loss: 0.2985 - accuracy: 0.9173 - val_loss: 0.2901 - val_accuracy: 0.9195\n",
      "Epoch 69/200\n",
      "469/469 [==============================] - 1s 2ms/step - loss: 0.2980 - accuracy: 0.9172 - val_loss: 0.2897 - val_accuracy: 0.9199\n",
      "Epoch 70/200\n",
      "469/469 [==============================] - 1s 2ms/step - loss: 0.2975 - accuracy: 0.9175 - val_loss: 0.2894 - val_accuracy: 0.9201\n",
      "Epoch 71/200\n",
      "469/469 [==============================] - 1s 1ms/step - loss: 0.2970 - accuracy: 0.9176 - val_loss: 0.2893 - val_accuracy: 0.9205\n",
      "Epoch 72/200\n",
      "469/469 [==============================] - 1s 1ms/step - loss: 0.2966 - accuracy: 0.9179 - val_loss: 0.2889 - val_accuracy: 0.9202\n",
      "Epoch 73/200\n",
      "469/469 [==============================] - 1s 1ms/step - loss: 0.2961 - accuracy: 0.9180 - val_loss: 0.2885 - val_accuracy: 0.9203\n",
      "Epoch 74/200\n",
      "469/469 [==============================] - 1s 1ms/step - loss: 0.2957 - accuracy: 0.9180 - val_loss: 0.2884 - val_accuracy: 0.9205\n",
      "Epoch 75/200\n",
      "469/469 [==============================] - 1s 1ms/step - loss: 0.2953 - accuracy: 0.9180 - val_loss: 0.2880 - val_accuracy: 0.9203\n",
      "Epoch 76/200\n",
      "469/469 [==============================] - 1s 1ms/step - loss: 0.2948 - accuracy: 0.9182 - val_loss: 0.2878 - val_accuracy: 0.9205\n",
      "Epoch 77/200\n",
      "469/469 [==============================] - 1s 1ms/step - loss: 0.2945 - accuracy: 0.9183 - val_loss: 0.2873 - val_accuracy: 0.9205\n",
      "Epoch 78/200\n",
      "469/469 [==============================] - 1s 2ms/step - loss: 0.2940 - accuracy: 0.9185 - val_loss: 0.2871 - val_accuracy: 0.9207\n",
      "Epoch 79/200\n",
      "469/469 [==============================] - 1s 1ms/step - loss: 0.2936 - accuracy: 0.9185 - val_loss: 0.2869 - val_accuracy: 0.9210\n",
      "Epoch 80/200\n",
      "469/469 [==============================] - 1s 1ms/step - loss: 0.2933 - accuracy: 0.9190 - val_loss: 0.2863 - val_accuracy: 0.9209\n",
      "Epoch 81/200\n",
      "469/469 [==============================] - 1s 1ms/step - loss: 0.2929 - accuracy: 0.9186 - val_loss: 0.2863 - val_accuracy: 0.9204\n",
      "Epoch 82/200\n",
      "469/469 [==============================] - 1s 1ms/step - loss: 0.2925 - accuracy: 0.9189 - val_loss: 0.2860 - val_accuracy: 0.9207\n",
      "Epoch 83/200\n",
      "469/469 [==============================] - 1s 1ms/step - loss: 0.2921 - accuracy: 0.9191 - val_loss: 0.2857 - val_accuracy: 0.9204\n",
      "Epoch 84/200\n",
      "469/469 [==============================] - 1s 1ms/step - loss: 0.2918 - accuracy: 0.9193 - val_loss: 0.2854 - val_accuracy: 0.9207\n",
      "Epoch 85/200\n",
      "469/469 [==============================] - 1s 1ms/step - loss: 0.2914 - accuracy: 0.9192 - val_loss: 0.2852 - val_accuracy: 0.9204\n",
      "Epoch 86/200\n",
      "469/469 [==============================] - 1s 1ms/step - loss: 0.2911 - accuracy: 0.9193 - val_loss: 0.2850 - val_accuracy: 0.9216\n",
      "Epoch 87/200\n",
      "469/469 [==============================] - 1s 1ms/step - loss: 0.2907 - accuracy: 0.9196 - val_loss: 0.2847 - val_accuracy: 0.9210\n",
      "Epoch 88/200\n",
      "469/469 [==============================] - 1s 2ms/step - loss: 0.2904 - accuracy: 0.9196 - val_loss: 0.2844 - val_accuracy: 0.9206\n",
      "Epoch 89/200\n",
      "469/469 [==============================] - 1s 3ms/step - loss: 0.2900 - accuracy: 0.9198 - val_loss: 0.2843 - val_accuracy: 0.9210\n",
      "Epoch 90/200\n",
      "469/469 [==============================] - 1s 2ms/step - loss: 0.2897 - accuracy: 0.9197 - val_loss: 0.2841 - val_accuracy: 0.9214\n",
      "Epoch 91/200\n",
      "469/469 [==============================] - 1s 3ms/step - loss: 0.2894 - accuracy: 0.9198 - val_loss: 0.2836 - val_accuracy: 0.9216\n",
      "Epoch 92/200\n",
      "469/469 [==============================] - 1s 3ms/step - loss: 0.2891 - accuracy: 0.9200 - val_loss: 0.2838 - val_accuracy: 0.9214\n",
      "Epoch 93/200\n",
      "469/469 [==============================] - 1s 3ms/step - loss: 0.2888 - accuracy: 0.9198 - val_loss: 0.2834 - val_accuracy: 0.9213\n",
      "Epoch 94/200\n",
      "469/469 [==============================] - 1s 3ms/step - loss: 0.2885 - accuracy: 0.9199 - val_loss: 0.2833 - val_accuracy: 0.9217\n",
      "Epoch 95/200\n",
      "469/469 [==============================] - 1s 3ms/step - loss: 0.2881 - accuracy: 0.9200 - val_loss: 0.2830 - val_accuracy: 0.9215\n",
      "Epoch 96/200\n",
      "469/469 [==============================] - 1s 3ms/step - loss: 0.2879 - accuracy: 0.9201 - val_loss: 0.2827 - val_accuracy: 0.9214\n",
      "Epoch 97/200\n",
      "469/469 [==============================] - 1s 2ms/step - loss: 0.2875 - accuracy: 0.9200 - val_loss: 0.2825 - val_accuracy: 0.9218\n",
      "Epoch 98/200\n",
      "469/469 [==============================] - 1s 2ms/step - loss: 0.2873 - accuracy: 0.9204 - val_loss: 0.2824 - val_accuracy: 0.9220\n",
      "Epoch 99/200\n",
      "469/469 [==============================] - 1s 2ms/step - loss: 0.2870 - accuracy: 0.9202 - val_loss: 0.2822 - val_accuracy: 0.9220\n",
      "Epoch 100/200\n",
      "469/469 [==============================] - 1s 2ms/step - loss: 0.2867 - accuracy: 0.9202 - val_loss: 0.2820 - val_accuracy: 0.9223\n",
      "Epoch 101/200\n",
      "469/469 [==============================] - 1s 2ms/step - loss: 0.2864 - accuracy: 0.9205 - val_loss: 0.2822 - val_accuracy: 0.9219\n",
      "Epoch 102/200\n",
      "469/469 [==============================] - 1s 1ms/step - loss: 0.2862 - accuracy: 0.9202 - val_loss: 0.2817 - val_accuracy: 0.9220\n",
      "Epoch 103/200\n",
      "469/469 [==============================] - 1s 1ms/step - loss: 0.2859 - accuracy: 0.9208 - val_loss: 0.2815 - val_accuracy: 0.9217\n",
      "Epoch 104/200\n",
      "469/469 [==============================] - 1s 2ms/step - loss: 0.2856 - accuracy: 0.9207 - val_loss: 0.2812 - val_accuracy: 0.9223\n",
      "Epoch 105/200\n",
      "469/469 [==============================] - 1s 2ms/step - loss: 0.2854 - accuracy: 0.9208 - val_loss: 0.2810 - val_accuracy: 0.9217\n",
      "Epoch 106/200\n",
      "469/469 [==============================] - 1s 1ms/step - loss: 0.2851 - accuracy: 0.9208 - val_loss: 0.2809 - val_accuracy: 0.9218\n",
      "Epoch 107/200\n",
      "469/469 [==============================] - 1s 1ms/step - loss: 0.2848 - accuracy: 0.9211 - val_loss: 0.2806 - val_accuracy: 0.9223\n",
      "Epoch 108/200\n",
      "469/469 [==============================] - 1s 1ms/step - loss: 0.2846 - accuracy: 0.9210 - val_loss: 0.2808 - val_accuracy: 0.9217\n",
      "Epoch 109/200\n",
      "469/469 [==============================] - 1s 2ms/step - loss: 0.2843 - accuracy: 0.9211 - val_loss: 0.2804 - val_accuracy: 0.9220\n",
      "Epoch 110/200\n",
      "469/469 [==============================] - 1s 2ms/step - loss: 0.2841 - accuracy: 0.9209 - val_loss: 0.2803 - val_accuracy: 0.9220\n",
      "Epoch 111/200\n",
      "469/469 [==============================] - 1s 1ms/step - loss: 0.2838 - accuracy: 0.9211 - val_loss: 0.2803 - val_accuracy: 0.9220\n",
      "Epoch 112/200\n",
      "469/469 [==============================] - 1s 1ms/step - loss: 0.2836 - accuracy: 0.9215 - val_loss: 0.2800 - val_accuracy: 0.9220\n",
      "Epoch 113/200\n",
      "469/469 [==============================] - 1s 1ms/step - loss: 0.2834 - accuracy: 0.9214 - val_loss: 0.2798 - val_accuracy: 0.9223\n",
      "Epoch 114/200\n",
      "469/469 [==============================] - 1s 1ms/step - loss: 0.2831 - accuracy: 0.9215 - val_loss: 0.2796 - val_accuracy: 0.9225\n"
     ]
    },
    {
     "name": "stdout",
     "output_type": "stream",
     "text": [
      "Epoch 115/200\n",
      "469/469 [==============================] - 1s 1ms/step - loss: 0.2829 - accuracy: 0.9216 - val_loss: 0.2795 - val_accuracy: 0.9219\n",
      "Epoch 116/200\n",
      "469/469 [==============================] - 1s 1ms/step - loss: 0.2827 - accuracy: 0.9214 - val_loss: 0.2794 - val_accuracy: 0.9223\n",
      "Epoch 117/200\n",
      "469/469 [==============================] - 1s 1ms/step - loss: 0.2824 - accuracy: 0.9216 - val_loss: 0.2793 - val_accuracy: 0.9225\n",
      "Epoch 118/200\n",
      "469/469 [==============================] - 1s 2ms/step - loss: 0.2822 - accuracy: 0.9217 - val_loss: 0.2794 - val_accuracy: 0.9222\n",
      "Epoch 119/200\n",
      "469/469 [==============================] - 1s 2ms/step - loss: 0.2820 - accuracy: 0.9218 - val_loss: 0.2790 - val_accuracy: 0.9224\n",
      "Epoch 120/200\n",
      "469/469 [==============================] - 1s 1ms/step - loss: 0.2818 - accuracy: 0.9220 - val_loss: 0.2788 - val_accuracy: 0.9222\n",
      "Epoch 121/200\n",
      "469/469 [==============================] - 1s 1ms/step - loss: 0.2816 - accuracy: 0.9219 - val_loss: 0.2789 - val_accuracy: 0.9223\n",
      "Epoch 122/200\n",
      "469/469 [==============================] - 1s 1ms/step - loss: 0.2813 - accuracy: 0.9218 - val_loss: 0.2786 - val_accuracy: 0.9223\n",
      "Epoch 123/200\n",
      "469/469 [==============================] - 1s 2ms/step - loss: 0.2811 - accuracy: 0.9220 - val_loss: 0.2784 - val_accuracy: 0.9227\n",
      "Epoch 124/200\n",
      "469/469 [==============================] - 1s 1ms/step - loss: 0.2809 - accuracy: 0.9222 - val_loss: 0.2783 - val_accuracy: 0.9224\n",
      "Epoch 125/200\n",
      "469/469 [==============================] - 1s 1ms/step - loss: 0.2807 - accuracy: 0.9222 - val_loss: 0.2781 - val_accuracy: 0.9226\n",
      "Epoch 126/200\n",
      "469/469 [==============================] - 1s 1ms/step - loss: 0.2805 - accuracy: 0.9225 - val_loss: 0.2779 - val_accuracy: 0.9226\n",
      "Epoch 127/200\n",
      "469/469 [==============================] - 1s 1ms/step - loss: 0.2803 - accuracy: 0.9225 - val_loss: 0.2779 - val_accuracy: 0.9231\n",
      "Epoch 128/200\n",
      "469/469 [==============================] - 1s 1ms/step - loss: 0.2801 - accuracy: 0.9226 - val_loss: 0.2778 - val_accuracy: 0.9224\n",
      "Epoch 129/200\n",
      "469/469 [==============================] - 1s 1ms/step - loss: 0.2799 - accuracy: 0.9225 - val_loss: 0.2778 - val_accuracy: 0.9225\n",
      "Epoch 130/200\n",
      "469/469 [==============================] - 1s 1ms/step - loss: 0.2797 - accuracy: 0.9227 - val_loss: 0.2776 - val_accuracy: 0.9226\n",
      "Epoch 131/200\n",
      "469/469 [==============================] - 1s 1ms/step - loss: 0.2796 - accuracy: 0.9227 - val_loss: 0.2773 - val_accuracy: 0.9226\n",
      "Epoch 132/200\n",
      "469/469 [==============================] - 1s 1ms/step - loss: 0.2794 - accuracy: 0.9226 - val_loss: 0.2774 - val_accuracy: 0.9230\n",
      "Epoch 133/200\n",
      "469/469 [==============================] - 1s 1ms/step - loss: 0.2791 - accuracy: 0.9227 - val_loss: 0.2774 - val_accuracy: 0.9227\n",
      "Epoch 134/200\n",
      "469/469 [==============================] - 1s 1ms/step - loss: 0.2790 - accuracy: 0.9226 - val_loss: 0.2772 - val_accuracy: 0.9229\n",
      "Epoch 135/200\n",
      "469/469 [==============================] - 1s 1ms/step - loss: 0.2788 - accuracy: 0.9228 - val_loss: 0.2771 - val_accuracy: 0.9224\n",
      "Epoch 136/200\n",
      "469/469 [==============================] - 1s 1ms/step - loss: 0.2786 - accuracy: 0.9227 - val_loss: 0.2771 - val_accuracy: 0.9229\n",
      "Epoch 137/200\n",
      "469/469 [==============================] - 1s 1ms/step - loss: 0.2784 - accuracy: 0.9230 - val_loss: 0.2770 - val_accuracy: 0.9227\n",
      "Epoch 138/200\n",
      "469/469 [==============================] - 1s 1ms/step - loss: 0.2783 - accuracy: 0.9230 - val_loss: 0.2767 - val_accuracy: 0.9227\n",
      "Epoch 139/200\n",
      "469/469 [==============================] - 1s 1ms/step - loss: 0.2781 - accuracy: 0.9230 - val_loss: 0.2763 - val_accuracy: 0.9227\n",
      "Epoch 140/200\n",
      "469/469 [==============================] - 1s 1ms/step - loss: 0.2779 - accuracy: 0.9229 - val_loss: 0.2766 - val_accuracy: 0.9227\n",
      "Epoch 141/200\n",
      "469/469 [==============================] - 1s 1ms/step - loss: 0.2777 - accuracy: 0.9231 - val_loss: 0.2763 - val_accuracy: 0.9231\n",
      "Epoch 142/200\n",
      "469/469 [==============================] - 1s 1ms/step - loss: 0.2775 - accuracy: 0.9230 - val_loss: 0.2765 - val_accuracy: 0.9229\n",
      "Epoch 143/200\n",
      "469/469 [==============================] - 1s 1ms/step - loss: 0.2774 - accuracy: 0.9233 - val_loss: 0.2761 - val_accuracy: 0.9227\n",
      "Epoch 144/200\n",
      "469/469 [==============================] - 1s 1ms/step - loss: 0.2772 - accuracy: 0.9232 - val_loss: 0.2761 - val_accuracy: 0.9225\n",
      "Epoch 145/200\n",
      "469/469 [==============================] - 1s 1ms/step - loss: 0.2771 - accuracy: 0.9233 - val_loss: 0.2760 - val_accuracy: 0.9230\n",
      "Epoch 146/200\n",
      "469/469 [==============================] - 1s 1ms/step - loss: 0.2769 - accuracy: 0.9233 - val_loss: 0.2761 - val_accuracy: 0.9226\n",
      "Epoch 147/200\n",
      "469/469 [==============================] - 1s 1ms/step - loss: 0.2767 - accuracy: 0.9231 - val_loss: 0.2758 - val_accuracy: 0.9229\n",
      "Epoch 148/200\n",
      "469/469 [==============================] - 1s 1ms/step - loss: 0.2766 - accuracy: 0.9233 - val_loss: 0.2756 - val_accuracy: 0.9228\n",
      "Epoch 149/200\n",
      "469/469 [==============================] - 1s 1ms/step - loss: 0.2764 - accuracy: 0.9233 - val_loss: 0.2756 - val_accuracy: 0.9229\n",
      "Epoch 150/200\n",
      "469/469 [==============================] - 1s 1ms/step - loss: 0.2763 - accuracy: 0.9234 - val_loss: 0.2756 - val_accuracy: 0.9225\n",
      "Epoch 151/200\n",
      "469/469 [==============================] - 1s 1ms/step - loss: 0.2761 - accuracy: 0.9237 - val_loss: 0.2755 - val_accuracy: 0.9227\n",
      "Epoch 152/200\n",
      "469/469 [==============================] - ETA: 0s - loss: 0.2760 - accuracy: 0.92 - 1s 1ms/step - loss: 0.2760 - accuracy: 0.9238 - val_loss: 0.2753 - val_accuracy: 0.9224\n",
      "Epoch 153/200\n",
      "469/469 [==============================] - 1s 1ms/step - loss: 0.2758 - accuracy: 0.9234 - val_loss: 0.2753 - val_accuracy: 0.9226\n",
      "Epoch 154/200\n",
      "469/469 [==============================] - 1s 1ms/step - loss: 0.2756 - accuracy: 0.9235 - val_loss: 0.2753 - val_accuracy: 0.9227\n",
      "Epoch 155/200\n",
      "469/469 [==============================] - 1s 1ms/step - loss: 0.2755 - accuracy: 0.9237 - val_loss: 0.2749 - val_accuracy: 0.9225\n",
      "Epoch 156/200\n",
      "469/469 [==============================] - 1s 1ms/step - loss: 0.2753 - accuracy: 0.9235 - val_loss: 0.2749 - val_accuracy: 0.9228\n",
      "Epoch 157/200\n",
      "469/469 [==============================] - 1s 1ms/step - loss: 0.2752 - accuracy: 0.9239 - val_loss: 0.2751 - val_accuracy: 0.9226\n",
      "Epoch 158/200\n",
      "469/469 [==============================] - 1s 1ms/step - loss: 0.2750 - accuracy: 0.9238 - val_loss: 0.2749 - val_accuracy: 0.9233\n",
      "Epoch 159/200\n",
      "469/469 [==============================] - 1s 1ms/step - loss: 0.2749 - accuracy: 0.9239 - val_loss: 0.2750 - val_accuracy: 0.9226\n",
      "Epoch 160/200\n",
      "469/469 [==============================] - 1s 1ms/step - loss: 0.2747 - accuracy: 0.9239 - val_loss: 0.2746 - val_accuracy: 0.9233\n",
      "Epoch 161/200\n",
      "469/469 [==============================] - 1s 1ms/step - loss: 0.2746 - accuracy: 0.9236 - val_loss: 0.2746 - val_accuracy: 0.9226\n",
      "Epoch 162/200\n",
      "469/469 [==============================] - 1s 1ms/step - loss: 0.2745 - accuracy: 0.9241 - val_loss: 0.2745 - val_accuracy: 0.9225\n",
      "Epoch 163/200\n",
      "469/469 [==============================] - 1s 1ms/step - loss: 0.2743 - accuracy: 0.9240 - val_loss: 0.2743 - val_accuracy: 0.9229\n",
      "Epoch 164/200\n",
      "469/469 [==============================] - 1s 1ms/step - loss: 0.2742 - accuracy: 0.9240 - val_loss: 0.2742 - val_accuracy: 0.9229\n",
      "Epoch 165/200\n",
      "469/469 [==============================] - 1s 1ms/step - loss: 0.2740 - accuracy: 0.9242 - val_loss: 0.2742 - val_accuracy: 0.9227\n",
      "Epoch 166/200\n",
      "469/469 [==============================] - 1s 1ms/step - loss: 0.2739 - accuracy: 0.9241 - val_loss: 0.2741 - val_accuracy: 0.9229\n",
      "Epoch 167/200\n",
      "469/469 [==============================] - 1s 1ms/step - loss: 0.2738 - accuracy: 0.9240 - val_loss: 0.2742 - val_accuracy: 0.9231\n",
      "Epoch 168/200\n",
      "469/469 [==============================] - 1s 1ms/step - loss: 0.2736 - accuracy: 0.9244 - val_loss: 0.2740 - val_accuracy: 0.9229\n",
      "Epoch 169/200\n",
      "469/469 [==============================] - 1s 1ms/step - loss: 0.2735 - accuracy: 0.9244 - val_loss: 0.2741 - val_accuracy: 0.9228\n",
      "Epoch 170/200\n",
      "469/469 [==============================] - 1s 1ms/step - loss: 0.2734 - accuracy: 0.9244 - val_loss: 0.2739 - val_accuracy: 0.9224\n",
      "Epoch 171/200\n"
     ]
    },
    {
     "name": "stdout",
     "output_type": "stream",
     "text": [
      "469/469 [==============================] - 1s 1ms/step - loss: 0.2732 - accuracy: 0.9244 - val_loss: 0.2739 - val_accuracy: 0.9228\n",
      "Epoch 172/200\n",
      "469/469 [==============================] - 1s 1ms/step - loss: 0.2731 - accuracy: 0.9244 - val_loss: 0.2739 - val_accuracy: 0.9231\n",
      "Epoch 173/200\n",
      "469/469 [==============================] - 1s 1ms/step - loss: 0.2730 - accuracy: 0.9246 - val_loss: 0.2737 - val_accuracy: 0.9232\n",
      "Epoch 174/200\n",
      "469/469 [==============================] - 1s 1ms/step - loss: 0.2728 - accuracy: 0.9244 - val_loss: 0.2739 - val_accuracy: 0.9232\n",
      "Epoch 175/200\n",
      "469/469 [==============================] - 1s 1ms/step - loss: 0.2727 - accuracy: 0.9245 - val_loss: 0.2737 - val_accuracy: 0.9229\n",
      "Epoch 176/200\n",
      "469/469 [==============================] - 1s 1ms/step - loss: 0.2725 - accuracy: 0.9245 - val_loss: 0.2740 - val_accuracy: 0.9228\n",
      "Epoch 177/200\n",
      "469/469 [==============================] - 1s 1ms/step - loss: 0.2725 - accuracy: 0.9246 - val_loss: 0.2736 - val_accuracy: 0.9228\n",
      "Epoch 178/200\n",
      "469/469 [==============================] - 1s 1ms/step - loss: 0.2723 - accuracy: 0.9247 - val_loss: 0.2734 - val_accuracy: 0.9232\n",
      "Epoch 179/200\n",
      "469/469 [==============================] - 1s 1ms/step - loss: 0.2722 - accuracy: 0.9248 - val_loss: 0.2732 - val_accuracy: 0.9226\n",
      "Epoch 180/200\n",
      "469/469 [==============================] - 1s 1ms/step - loss: 0.2721 - accuracy: 0.9250 - val_loss: 0.2733 - val_accuracy: 0.9231\n",
      "Epoch 181/200\n",
      "469/469 [==============================] - 1s 1ms/step - loss: 0.2720 - accuracy: 0.9247 - val_loss: 0.2732 - val_accuracy: 0.9235\n",
      "Epoch 182/200\n",
      "469/469 [==============================] - 1s 1ms/step - loss: 0.2718 - accuracy: 0.9247 - val_loss: 0.2732 - val_accuracy: 0.9230\n",
      "Epoch 183/200\n",
      "469/469 [==============================] - 1s 1ms/step - loss: 0.2717 - accuracy: 0.9249 - val_loss: 0.2730 - val_accuracy: 0.9232\n",
      "Epoch 184/200\n",
      "469/469 [==============================] - 1s 1ms/step - loss: 0.2716 - accuracy: 0.9251 - val_loss: 0.2731 - val_accuracy: 0.9232\n",
      "Epoch 185/200\n",
      "469/469 [==============================] - 1s 1ms/step - loss: 0.2714 - accuracy: 0.9251 - val_loss: 0.2726 - val_accuracy: 0.9236\n",
      "Epoch 186/200\n",
      "469/469 [==============================] - 1s 1ms/step - loss: 0.2713 - accuracy: 0.9249 - val_loss: 0.2728 - val_accuracy: 0.9227\n",
      "Epoch 187/200\n",
      "469/469 [==============================] - 1s 1ms/step - loss: 0.2712 - accuracy: 0.9251 - val_loss: 0.2730 - val_accuracy: 0.9233\n",
      "Epoch 188/200\n",
      "469/469 [==============================] - 1s 1ms/step - loss: 0.2711 - accuracy: 0.9250 - val_loss: 0.2728 - val_accuracy: 0.9233\n",
      "Epoch 189/200\n",
      "469/469 [==============================] - 1s 1ms/step - loss: 0.2710 - accuracy: 0.9251 - val_loss: 0.2727 - val_accuracy: 0.9230\n",
      "Epoch 190/200\n",
      "469/469 [==============================] - 1s 1ms/step - loss: 0.2709 - accuracy: 0.9252 - val_loss: 0.2727 - val_accuracy: 0.9232\n",
      "Epoch 191/200\n",
      "469/469 [==============================] - 1s 1ms/step - loss: 0.2708 - accuracy: 0.9250 - val_loss: 0.2726 - val_accuracy: 0.9229\n",
      "Epoch 192/200\n",
      "469/469 [==============================] - 1s 1ms/step - loss: 0.2707 - accuracy: 0.9254 - val_loss: 0.2726 - val_accuracy: 0.9226\n",
      "Epoch 193/200\n",
      "469/469 [==============================] - 1s 1ms/step - loss: 0.2705 - accuracy: 0.9251 - val_loss: 0.2722 - val_accuracy: 0.9232\n",
      "Epoch 194/200\n",
      "469/469 [==============================] - 1s 1ms/step - loss: 0.2704 - accuracy: 0.9254 - val_loss: 0.2726 - val_accuracy: 0.9235\n",
      "Epoch 195/200\n",
      "469/469 [==============================] - 1s 1ms/step - loss: 0.2703 - accuracy: 0.9252 - val_loss: 0.2724 - val_accuracy: 0.9234\n",
      "Epoch 196/200\n",
      "469/469 [==============================] - 1s 1ms/step - loss: 0.2702 - accuracy: 0.9254 - val_loss: 0.2724 - val_accuracy: 0.9234\n",
      "Epoch 197/200\n",
      "469/469 [==============================] - 1s 1ms/step - loss: 0.2701 - accuracy: 0.9254 - val_loss: 0.2723 - val_accuracy: 0.9233\n",
      "Epoch 198/200\n",
      "469/469 [==============================] - 1s 1ms/step - loss: 0.2700 - accuracy: 0.9254 - val_loss: 0.2723 - val_accuracy: 0.9232\n",
      "Epoch 199/200\n",
      "469/469 [==============================] - 1s 1ms/step - loss: 0.2699 - accuracy: 0.9253 - val_loss: 0.2723 - val_accuracy: 0.9230\n",
      "Epoch 200/200\n",
      "469/469 [==============================] - 1s 1ms/step - loss: 0.2698 - accuracy: 0.9257 - val_loss: 0.2719 - val_accuracy: 0.9230\n"
     ]
    }
   ],
   "source": [
    "# compile the model, choose the optimization objective function, learning rate\n",
    "\n",
    "opt = SGD(learning_rate=learning_rate)\n",
    "\n",
    "model_linear.compile(loss='categorical_crossentropy',\n",
    "              optimizer=opt,\n",
    "              metrics=['accuracy'])\n",
    "# train the model\n",
    "history = model_linear.fit(x=x_train, y=y_train,\n",
    "          batch_size=batch_size,\n",
    "          epochs=epochs,\n",
    "          validation_data=(x_test, y_test))"
   ]
  },
  {
   "cell_type": "code",
   "execution_count": 14,
   "metadata": {},
   "outputs": [
    {
     "data": {
      "text/plain": [
       "dict_keys(['loss', 'accuracy', 'val_loss', 'val_accuracy'])"
      ]
     },
     "execution_count": 14,
     "metadata": {},
     "output_type": "execute_result"
    }
   ],
   "source": [
    "history.history.keys()"
   ]
  },
  {
   "cell_type": "code",
   "execution_count": 15,
   "metadata": {
    "colab": {},
    "colab_type": "code",
    "id": "_ZPvTNXzv7Ds"
   },
   "outputs": [],
   "source": [
    "training_loss = history.history['loss']\n",
    "test_loss = history.history['val_loss']\n",
    "training_acc = history.history['accuracy']\n",
    "test_acc = history.history['val_accuracy']"
   ]
  },
  {
   "cell_type": "code",
   "execution_count": 16,
   "metadata": {
    "colab": {
     "base_uri": "https://localhost:8080/",
     "height": 295
    },
    "colab_type": "code",
    "id": "axVlB1Rrz0Wr",
    "outputId": "50e321a0-cc36-44b7-c7f2-e1fe78eea3bf"
   },
   "outputs": [
    {
     "data": {
      "image/png": "[encoded data removed]",
      "text/plain": [
       "<Figure size 432x288 with 1 Axes>"
      ]
     },
     "metadata": {
      "needs_background": "light"
     },
     "output_type": "display_data"
    }
   ],
   "source": [
    "plt.plot(training_loss, label = \"Training Cost\")\n",
    "plt.plot(test_loss, label = \"Test Cost\")\n",
    "# naming the x axis \n",
    "plt.xlabel('# of epochs') \n",
    "# naming the y axis \n",
    "plt.ylabel('Cost Function') \n",
    "# giving a title to my graph \n",
    "plt.title('Training and Test set cost functions vs. Epoch number')\n",
    "# show a legend on the plot \n",
    "plt.legend() \n",
    "# function to show the plot \n",
    "plt.show()"
   ]
  },
  {
   "cell_type": "code",
   "execution_count": 17,
   "metadata": {
    "colab": {
     "base_uri": "https://localhost:8080/",
     "height": 295
    },
    "colab_type": "code",
    "id": "wtk-deTV3Eu4",
    "outputId": "440568b9-5883-4e75-995f-9885d6b5db4a"
   },
   "outputs": [
    {
     "data": {
      "image/png": "[encoded data removed]",
      "text/plain": [
       "<Figure size 432x288 with 1 Axes>"
      ]
     },
     "metadata": {
      "needs_background": "light"
     },
     "output_type": "display_data"
    }
   ],
   "source": [
    "plt.plot(training_acc, label = \"Training Accuracy\")\n",
    "plt.plot(test_acc, label = \"Test Accuracy\")\n",
    "# naming the x axis \n",
    "plt.xlabel('# of epochs') \n",
    "# naming the y axis \n",
    "plt.ylabel('Accuracy')\n",
    "# giving a title to my graph \n",
    "plt.title('Training and Test set accuracies vs. Epoch number')\n",
    "# show a legend on the plot \n",
    "plt.legend() \n",
    "# function to show the plot \n",
    "plt.show()"
   ]
  },
  {
   "cell_type": "code",
   "execution_count": 18,
   "metadata": {
    "colab": {
     "base_uri": "https://localhost:8080/",
     "height": 51
    },
    "colab_type": "code",
    "id": "x-CnF9512F6a",
    "outputId": "c6623b79-7916-4792-9ea1-799de380079c"
   },
   "outputs": [
    {
     "name": "stdout",
     "output_type": "stream",
     "text": [
      "Test loss: 0.2719164192676544\n",
      "Test accuracy: 0.9229999780654907\n"
     ]
    }
   ],
   "source": [
    "# reporting of the results\n",
    "score = model_linear.evaluate(x_test, y_test, verbose=0)\n",
    "print('Test loss:', score[0])\n",
    "print('Test accuracy:', score[1])"
   ]
  },
  {
   "cell_type": "code",
   "execution_count": 19,
   "metadata": {
    "colab": {
     "base_uri": "https://localhost:8080/",
     "height": 85
    },
    "colab_type": "code",
    "id": "mRJSE3TDhAvA",
    "outputId": "11bd5372-678e-458f-de32-7ed8dbf67374"
   },
   "outputs": [
    {
     "name": "stdout",
     "output_type": "stream",
     "text": [
      "scores shape: (10000, 10)\n",
      "scores shape: (10000,)\n",
      "y_test shape: (10000,)\n"
     ]
    }
   ],
   "source": [
    "# find the prediction of test set\n",
    "scores_test = model_linear.predict(x_test)\n",
    "print('scores shape:', scores_test.shape)\n",
    "# convert binary arrays to digits\n",
    "scores_test = np.argmax(scores_test,axis=1)\n",
    "print('scores shape:', scores_test.shape)\n",
    "y_test = np.argmax(y_test,axis=1)\n",
    "print('y_test shape:', y_test.shape)"
   ]
  },
  {
   "cell_type": "code",
   "execution_count": 20,
   "metadata": {
    "colab": {
     "base_uri": "https://localhost:8080/",
     "height": 204
    },
    "colab_type": "code",
    "id": "2DqrVfhdpxpf",
    "outputId": "d1c9bced-a6cf-42f7-83f4-15afc9b47836"
   },
   "outputs": [
    {
     "name": "stdout",
     "output_type": "stream",
     "text": [
      "Confusion matrix:\n",
      "[[ 961    0    7    3    1   10   12    1    7   10]\n",
      " [   0 1109    7    0    2    2    3    7    7    7]\n",
      " [   2    2  925   22    4    3    5   23    7    2]\n",
      " [   2    2   15  919    1   30    1    9   24   11]\n",
      " [   0    0   11    0  918    9    9    6    9   35]\n",
      " [   4    2    5   26    0  776   12    1   25    7]\n",
      " [   8    4   11    2   11   17  911    0   11    0]\n",
      " [   1    2    9   11    2    6    3  945   12   28]\n",
      " [   2   14   37   18    8   32    2    2  865    8]\n",
      " [   0    0    5    9   35    7    0   34    7  901]]\n"
     ]
    }
   ],
   "source": [
    "print(\"Confusion matrix:\\n%s\" % confusion_matrix(scores_test,y_test))"
   ]
  },
  {
   "cell_type": "code",
   "execution_count": 21,
   "metadata": {
    "colab": {},
    "colab_type": "code",
    "id": "nKB3FYXv2P29"
   },
   "outputs": [],
   "source": [
    "del model_linear"
   ]
  }
 ],
 "metadata": {
  "colab": {
   "collapsed_sections": [],
   "name": "Task1.ipynb",
   "provenance": []
  },
  "kernelspec": {
   "display_name": "Python 3",
   "language": "python",
   "name": "python3"
  },
  "language_info": {
   "codemirror_mode": {
    "name": "ipython",
    "version": 3
   },
   "file_extension": ".py",
   "mimetype": "text/x-python",
   "name": "python",
   "nbconvert_exporter": "python",
   "pygments_lexer": "ipython3",
   "version": "3.7.7"
  }
 },
 "nbformat": 4,
 "nbformat_minor": 1
}
